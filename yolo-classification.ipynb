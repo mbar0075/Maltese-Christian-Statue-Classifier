{
 "cells": [
  {
   "cell_type": "markdown",
   "metadata": {},
   "source": [
    "<center><h1>Maltese Christian Statue (MCS) YOLO Classification</h1>\n",
    "<h2>Matthias Bartolo</h2>\n",
    "\n",
    "</center>"
   ]
  },
  {
   "cell_type": "markdown",
   "metadata": {},
   "source": [
    "### Preparing the MCS dataset\n",
    "\n",
    "\n",
    "The Dataset features 14 Categories of Christian Statues found in Malta specifically in the parish church of `Ħaż-Żebbuġ` dedicated to `St Philip of Agira`. Note that the images retrieved for the creation of such dataset, were extracted from public domain sources and are not intended for commercial use."
   ]
  },
  {
   "cell_type": "code",
   "execution_count": 1,
   "metadata": {},
   "outputs": [
    {
     "name": "stdout",
     "output_type": "stream",
     "text": [
      "\u001b[35m0. Christmas Crib\u001b[0m\n",
      "\u001b[35m1. Jesus has Risen\u001b[0m\n",
      "\u001b[35m2. Jesus praying in Gethsemane\u001b[0m\n",
      "\u001b[35m3. Our Lady of Grace\u001b[0m\n",
      "\u001b[35m4. Saint Joseph\u001b[0m\n",
      "\u001b[35m5. Saint Philip of Agira\u001b[0m\n",
      "\u001b[35m6. Simon of Cyrene\u001b[0m\n",
      "\u001b[35m7. The Betrayal of Judas\u001b[0m\n",
      "\u001b[35m8. The Cross\u001b[0m\n",
      "\u001b[35m9. The Crucifixion\u001b[0m\n",
      "\u001b[35m10. The Ecce Homo\u001b[0m\n",
      "\u001b[35m11. The Flogged\u001b[0m\n",
      "\u001b[35m12. The Lady of Sorrows\u001b[0m\n",
      "\u001b[35m13. The Last Supper\u001b[0m\n",
      "\u001b[35m14. The Monument\u001b[0m\n",
      "\u001b[35m15. The Redeemer\u001b[0m\n",
      "\u001b[35m16. The Veronica\u001b[0m\n"
     ]
    }
   ],
   "source": [
    "import os\n",
    "\n",
    "# Defining the dataset path\n",
    "dataset_path = 'MCS Dataset/'\n",
    "\n",
    "# Retrieving the categories\n",
    "categories = os.listdir(dataset_path)\n",
    "\n",
    "# Printing the categories\n",
    "for i, category in enumerate(categories):\n",
    "    print('\\033[35m' + str(i) + '. ' + category + '\\033[0m')"
   ]
  },
  {
   "cell_type": "markdown",
   "metadata": {},
   "source": [
    "### Formatting the data to be used by the YOLO model\n",
    "The data is split into training and testing sets. The training set is used to train the model, while the testing set is used to evaluate the model's performance. The data is split into 80% training and 20% testing."
   ]
  },
  {
   "cell_type": "code",
   "execution_count": 2,
   "metadata": {},
   "outputs": [],
   "source": [
    "do_split = False\n",
    "\n",
    "if do_split:\n",
    "    import os\n",
    "    import shutil\n",
    "\n",
    "    # Define paths\n",
    "    original_dataset_path = 'Augmented MCS Dataset1k/'  # Original dataset directory\n",
    "    output_base_path = 'Augmented MCS Dataset Split/'        \n",
    "    train_dir = os.path.join(output_base_path, 'train')\n",
    "    test_dir = os.path.join(output_base_path, 'test')\n",
    "\n",
    "    # Create output directories\n",
    "    os.makedirs(train_dir, exist_ok=True)\n",
    "    os.makedirs(test_dir, exist_ok=True)\n",
    "\n",
    "    # Retrieve categories\n",
    "    categories = os.listdir(original_dataset_path)\n",
    "\n",
    "    # Process each category\n",
    "    for category in categories:\n",
    "        category_path = os.path.join(original_dataset_path, category)\n",
    "        image_names = os.listdir(category_path)\n",
    "        \n",
    "        # Split the image names into train (80%) and test (20%) sets\n",
    "        train_count = int(0.8 * len(image_names))\n",
    "        train_images = image_names[:train_count]\n",
    "        test_images = image_names[train_count:]\n",
    "        \n",
    "        # Create subdirectories for the category in train and test directories\n",
    "        train_category_dir = os.path.join(train_dir, category)\n",
    "        test_category_dir = os.path.join(test_dir, category)\n",
    "        os.makedirs(train_category_dir, exist_ok=True)\n",
    "        os.makedirs(test_category_dir, exist_ok=True)\n",
    "        \n",
    "        # Move train images\n",
    "        for image_name in train_images:\n",
    "            src_path = os.path.join(category_path, image_name)\n",
    "            dst_path = os.path.join(train_category_dir, image_name)\n",
    "            shutil.copy(src_path, dst_path)\n",
    "        \n",
    "        # Move test images\n",
    "        for image_name in test_images:\n",
    "            src_path = os.path.join(category_path, image_name)\n",
    "            dst_path = os.path.join(test_category_dir, image_name)\n",
    "            shutil.copy(src_path, dst_path)\n",
    "\n",
    "    print('\\033[35m' + 'Dataset successfully reorganized into CIFAR-10-style structure.' + '\\033[0m')\n"
   ]
  },
  {
   "cell_type": "markdown",
   "metadata": {},
   "source": [
    "### Training the YOLO model"
   ]
  },
  {
   "cell_type": "code",
   "execution_count": 3,
   "metadata": {},
   "outputs": [
    {
     "name": "stdout",
     "output_type": "stream",
     "text": [
      "New https://pypi.org/project/ultralytics/8.3.63 available  Update with 'pip install -U ultralytics'\n",
      "Ultralytics 8.3.59  Python-3.9.19 torch-2.5.1+cu124 CUDA:0 (NVIDIA GeForce RTX 4070, 12282MiB)\n",
      "\u001b[34m\u001b[1mengine\\trainer: \u001b[0mtask=classify, mode=train, model=yolo11x-cls.pt, data=D:/GitHub/Maltese-Christian-Statue-Classifier/Augmented MCS Dataset Split, epochs=100, time=None, patience=15, batch=128, imgsz=224, save=True, save_period=-1, cache=True, device=0, workers=8, project=None, name=train4, exist_ok=False, pretrained=True, optimizer=Adam, verbose=True, seed=0, deterministic=True, single_cls=False, rect=False, cos_lr=False, close_mosaic=10, resume=False, amp=True, fraction=1.0, profile=False, freeze=None, multi_scale=False, overlap_mask=True, mask_ratio=4, dropout=0.5, val=True, split=val, save_json=False, save_hybrid=False, conf=None, iou=0.7, max_det=300, half=False, dnn=False, plots=True, source=None, vid_stride=1, stream_buffer=False, visualize=False, augment=False, agnostic_nms=False, classes=None, retina_masks=False, embed=None, show=False, save_frames=False, save_txt=False, save_conf=False, save_crop=False, show_labels=True, show_conf=True, show_boxes=True, line_width=None, format=torchscript, keras=False, optimize=False, int8=False, dynamic=False, simplify=True, opset=None, workspace=None, nms=False, lr0=0.001, lrf=0.01, momentum=0.9, weight_decay=0.0005, warmup_epochs=3.0, warmup_momentum=0.8, warmup_bias_lr=0.1, box=7.5, cls=0.5, dfl=1.5, pose=12.0, kobj=1.0, nbs=64, hsv_h=0.015, hsv_s=0.7, hsv_v=0.4, degrees=0.0, translate=0.1, scale=0.5, shear=0.0, perspective=0.0, flipud=0.0, fliplr=0.5, bgr=0.0, mosaic=1.0, mixup=0.0, copy_paste=0.0, copy_paste_mode=flip, auto_augment=randaugment, erasing=0.4, crop_fraction=1.0, cfg=None, tracker=botsort.yaml, save_dir=runs\\classify\\train4\n",
      "\u001b[34m\u001b[1mtrain:\u001b[0m D:\\GitHub\\Maltese-Christian-Statue-Classifier\\Augmented MCS Dataset Split\\train... found 20387 images in 17 classes  \n",
      "\u001b[34m\u001b[1mval:\u001b[0m None...\n",
      "\u001b[34m\u001b[1mtest:\u001b[0m D:\\GitHub\\Maltese-Christian-Statue-Classifier\\Augmented MCS Dataset Split\\test... found 5100 images in 17 classes  \n",
      "Overriding model.yaml nc=80 with nc=17\n",
      "\n",
      "                   from  n    params  module                                       arguments                     \n",
      "  0                  -1  1      2784  ultralytics.nn.modules.conv.Conv             [3, 96, 3, 2]                 \n",
      "  1                  -1  1    166272  ultralytics.nn.modules.conv.Conv             [96, 192, 3, 2]               \n",
      "  2                  -1  2    389760  ultralytics.nn.modules.block.C3k2            [192, 384, 2, True, 0.25]     \n",
      "  3                  -1  1   1327872  ultralytics.nn.modules.conv.Conv             [384, 384, 3, 2]              \n",
      "  4                  -1  2   1553664  ultralytics.nn.modules.block.C3k2            [384, 768, 2, True, 0.25]     \n",
      "  5                  -1  1   5309952  ultralytics.nn.modules.conv.Conv             [768, 768, 3, 2]              \n",
      "  6                  -1  2   5022720  ultralytics.nn.modules.block.C3k2            [768, 768, 2, True]           \n",
      "  7                  -1  1   5309952  ultralytics.nn.modules.conv.Conv             [768, 768, 3, 2]              \n",
      "  8                  -1  2   5022720  ultralytics.nn.modules.block.C3k2            [768, 768, 2, True]           \n",
      "  9                  -1  2   3264768  ultralytics.nn.modules.block.C2PSA           [768, 768, 2]                 \n",
      " 10                  -1  1   1007377  ultralytics.nn.modules.head.Classify         [768, 17]                     \n",
      "YOLO11x-cls summary: 309 layers, 28,377,841 parameters, 28,377,841 gradients, 111.0 GFLOPs\n",
      "Transferred 492/494 items from pretrained weights\n",
      "\u001b[34m\u001b[1mAMP: \u001b[0mrunning Automatic Mixed Precision (AMP) checks...\n",
      "\u001b[34m\u001b[1mAMP: \u001b[0mchecks passed \n",
      "WARNING  Classification `cache_ram` training has known memory leak in https://github.com/ultralytics/ultralytics/issues/9824, setting `cache_ram=False`.\n"
     ]
    },
    {
     "name": "stderr",
     "output_type": "stream",
     "text": [
      "\u001b[34m\u001b[1mtrain: \u001b[0mScanning D:\\GitHub\\Maltese-Christian-Statue-Classifier\\Augmented MCS Dataset Split\\train... 20387 images, 0 corrupt: 100%|██████████| 20387/20387 [00:00<?, ?it/s]\n"
     ]
    },
    {
     "name": "stdout",
     "output_type": "stream",
     "text": [
      "WARNING  Classification `cache_ram` training has known memory leak in https://github.com/ultralytics/ultralytics/issues/9824, setting `cache_ram=False`.\n"
     ]
    },
    {
     "name": "stderr",
     "output_type": "stream",
     "text": [
      "\u001b[34m\u001b[1mval: \u001b[0mScanning D:\\GitHub\\Maltese-Christian-Statue-Classifier\\Augmented MCS Dataset Split\\test... 5100 images, 0 corrupt: 100%|██████████| 5100/5100 [00:00<?, ?it/s]\n"
     ]
    },
    {
     "name": "stdout",
     "output_type": "stream",
     "text": [
      "\u001b[34m\u001b[1moptimizer:\u001b[0m Adam(lr=0.001, momentum=0.9) with parameter groups 82 weight(decay=0.0), 83 weight(decay=0.001), 83 bias(decay=0.0)\n",
      "Image sizes 224 train, 224 val\n",
      "Using 8 dataloader workers\n",
      "Logging results to \u001b[1mruns\\classify\\train4\u001b[0m\n",
      "Starting training for 100 epochs...\n",
      "\n",
      "      Epoch    GPU_mem       loss  Instances       Size\n"
     ]
    },
    {
     "name": "stderr",
     "output_type": "stream",
     "text": [
      "      1/100      10.9G      1.166         35        224: 100%|██████████| 160/160 [02:37<00:00,  1.02it/s]\n",
      "               classes   top1_acc   top5_acc: 100%|██████████| 20/20 [00:50<00:00,  2.52s/it]"
     ]
    },
    {
     "name": "stdout",
     "output_type": "stream",
     "text": [
      "                   all       0.68      0.908\n"
     ]
    },
    {
     "name": "stderr",
     "output_type": "stream",
     "text": [
      "\n"
     ]
    },
    {
     "name": "stdout",
     "output_type": "stream",
     "text": [
      "\n",
      "      Epoch    GPU_mem       loss  Instances       Size\n"
     ]
    },
    {
     "name": "stderr",
     "output_type": "stream",
     "text": [
      "      2/100      11.2G     0.5564         35        224: 100%|██████████| 160/160 [02:21<00:00,  1.13it/s]\n",
      "               classes   top1_acc   top5_acc: 100%|██████████| 20/20 [00:57<00:00,  2.89s/it]"
     ]
    },
    {
     "name": "stdout",
     "output_type": "stream",
     "text": [
      "                   all      0.648      0.899\n"
     ]
    },
    {
     "name": "stderr",
     "output_type": "stream",
     "text": [
      "\n"
     ]
    },
    {
     "name": "stdout",
     "output_type": "stream",
     "text": [
      "\n",
      "      Epoch    GPU_mem       loss  Instances       Size\n"
     ]
    },
    {
     "name": "stderr",
     "output_type": "stream",
     "text": [
      "      3/100      11.2G     0.6659         35        224: 100%|██████████| 160/160 [02:30<00:00,  1.06it/s]\n",
      "               classes   top1_acc   top5_acc: 100%|██████████| 20/20 [00:59<00:00,  2.95s/it]"
     ]
    },
    {
     "name": "stdout",
     "output_type": "stream",
     "text": [
      "                   all      0.648      0.905\n"
     ]
    },
    {
     "name": "stderr",
     "output_type": "stream",
     "text": [
      "\n"
     ]
    },
    {
     "name": "stdout",
     "output_type": "stream",
     "text": [
      "\n",
      "      Epoch    GPU_mem       loss  Instances       Size\n"
     ]
    },
    {
     "name": "stderr",
     "output_type": "stream",
     "text": [
      "      4/100      11.2G      0.674         35        224: 100%|██████████| 160/160 [02:30<00:00,  1.06it/s]\n",
      "               classes   top1_acc   top5_acc: 100%|██████████| 20/20 [00:56<00:00,  2.84s/it]"
     ]
    },
    {
     "name": "stdout",
     "output_type": "stream",
     "text": [
      "                   all      0.701      0.911\n"
     ]
    },
    {
     "name": "stderr",
     "output_type": "stream",
     "text": [
      "\n"
     ]
    },
    {
     "name": "stdout",
     "output_type": "stream",
     "text": [
      "\n",
      "      Epoch    GPU_mem       loss  Instances       Size\n"
     ]
    },
    {
     "name": "stderr",
     "output_type": "stream",
     "text": [
      "      5/100      11.2G     0.6213         35        224: 100%|██████████| 160/160 [01:47<00:00,  1.49it/s]\n",
      "               classes   top1_acc   top5_acc: 100%|██████████| 20/20 [00:40<00:00,  2.04s/it]"
     ]
    },
    {
     "name": "stdout",
     "output_type": "stream",
     "text": [
      "                   all      0.703      0.918\n"
     ]
    },
    {
     "name": "stderr",
     "output_type": "stream",
     "text": [
      "\n"
     ]
    },
    {
     "name": "stdout",
     "output_type": "stream",
     "text": [
      "\n",
      "      Epoch    GPU_mem       loss  Instances       Size\n"
     ]
    },
    {
     "name": "stderr",
     "output_type": "stream",
     "text": [
      "      6/100      11.2G     0.5869         35        224: 100%|██████████| 160/160 [01:48<00:00,  1.48it/s]\n",
      "               classes   top1_acc   top5_acc: 100%|██████████| 20/20 [00:44<00:00,  2.22s/it]"
     ]
    },
    {
     "name": "stdout",
     "output_type": "stream",
     "text": [
      "                   all      0.704      0.924\n"
     ]
    },
    {
     "name": "stderr",
     "output_type": "stream",
     "text": [
      "\n"
     ]
    },
    {
     "name": "stdout",
     "output_type": "stream",
     "text": [
      "\n",
      "      Epoch    GPU_mem       loss  Instances       Size\n"
     ]
    },
    {
     "name": "stderr",
     "output_type": "stream",
     "text": [
      "      7/100      11.2G      0.567         35        224: 100%|██████████| 160/160 [01:58<00:00,  1.35it/s]\n",
      "               classes   top1_acc   top5_acc: 100%|██████████| 20/20 [00:46<00:00,  2.31s/it]"
     ]
    },
    {
     "name": "stdout",
     "output_type": "stream",
     "text": [
      "                   all      0.695      0.917\n"
     ]
    },
    {
     "name": "stderr",
     "output_type": "stream",
     "text": [
      "\n"
     ]
    },
    {
     "name": "stdout",
     "output_type": "stream",
     "text": [
      "\n",
      "      Epoch    GPU_mem       loss  Instances       Size\n"
     ]
    },
    {
     "name": "stderr",
     "output_type": "stream",
     "text": [
      "      8/100      11.2G      0.542         35        224: 100%|██████████| 160/160 [01:58<00:00,  1.35it/s]\n",
      "               classes   top1_acc   top5_acc: 100%|██████████| 20/20 [00:44<00:00,  2.22s/it]"
     ]
    },
    {
     "name": "stdout",
     "output_type": "stream",
     "text": [
      "                   all      0.657      0.893\n"
     ]
    },
    {
     "name": "stderr",
     "output_type": "stream",
     "text": [
      "\n"
     ]
    },
    {
     "name": "stdout",
     "output_type": "stream",
     "text": [
      "\n",
      "      Epoch    GPU_mem       loss  Instances       Size\n"
     ]
    },
    {
     "name": "stderr",
     "output_type": "stream",
     "text": [
      "      9/100      11.2G     0.5313         35        224: 100%|██████████| 160/160 [02:00<00:00,  1.33it/s]\n",
      "               classes   top1_acc   top5_acc: 100%|██████████| 20/20 [00:48<00:00,  2.40s/it]"
     ]
    },
    {
     "name": "stdout",
     "output_type": "stream",
     "text": [
      "                   all       0.69      0.899\n"
     ]
    },
    {
     "name": "stderr",
     "output_type": "stream",
     "text": [
      "\n"
     ]
    },
    {
     "name": "stdout",
     "output_type": "stream",
     "text": [
      "\n",
      "      Epoch    GPU_mem       loss  Instances       Size\n"
     ]
    },
    {
     "name": "stderr",
     "output_type": "stream",
     "text": [
      "     10/100      11.2G     0.5755         35        224: 100%|██████████| 160/160 [02:07<00:00,  1.26it/s]\n",
      "               classes   top1_acc   top5_acc: 100%|██████████| 20/20 [00:57<00:00,  2.88s/it]"
     ]
    },
    {
     "name": "stdout",
     "output_type": "stream",
     "text": [
      "                   all      0.706      0.913\n"
     ]
    },
    {
     "name": "stderr",
     "output_type": "stream",
     "text": [
      "\n"
     ]
    },
    {
     "name": "stdout",
     "output_type": "stream",
     "text": [
      "\n",
      "      Epoch    GPU_mem       loss  Instances       Size\n"
     ]
    },
    {
     "name": "stderr",
     "output_type": "stream",
     "text": [
      "     11/100      11.2G     0.5239         35        224: 100%|██████████| 160/160 [02:01<00:00,  1.31it/s]\n",
      "               classes   top1_acc   top5_acc: 100%|██████████| 20/20 [00:45<00:00,  2.29s/it]"
     ]
    },
    {
     "name": "stdout",
     "output_type": "stream",
     "text": [
      "                   all      0.711       0.91\n"
     ]
    },
    {
     "name": "stderr",
     "output_type": "stream",
     "text": [
      "\n"
     ]
    },
    {
     "name": "stdout",
     "output_type": "stream",
     "text": [
      "\n",
      "      Epoch    GPU_mem       loss  Instances       Size\n"
     ]
    },
    {
     "name": "stderr",
     "output_type": "stream",
     "text": [
      "     12/100      11.2G     0.4985         35        224: 100%|██████████| 160/160 [01:59<00:00,  1.34it/s]\n",
      "               classes   top1_acc   top5_acc: 100%|██████████| 20/20 [00:45<00:00,  2.28s/it]"
     ]
    },
    {
     "name": "stdout",
     "output_type": "stream",
     "text": [
      "                   all      0.686      0.905\n"
     ]
    },
    {
     "name": "stderr",
     "output_type": "stream",
     "text": [
      "\n"
     ]
    },
    {
     "name": "stdout",
     "output_type": "stream",
     "text": [
      "\n",
      "      Epoch    GPU_mem       loss  Instances       Size\n"
     ]
    },
    {
     "name": "stderr",
     "output_type": "stream",
     "text": [
      "     13/100      11.2G     0.5322         35        224: 100%|██████████| 160/160 [01:57<00:00,  1.36it/s]\n",
      "               classes   top1_acc   top5_acc: 100%|██████████| 20/20 [00:48<00:00,  2.45s/it]"
     ]
    },
    {
     "name": "stdout",
     "output_type": "stream",
     "text": [
      "                   all      0.688      0.918\n"
     ]
    },
    {
     "name": "stderr",
     "output_type": "stream",
     "text": [
      "\n"
     ]
    },
    {
     "name": "stdout",
     "output_type": "stream",
     "text": [
      "\n",
      "      Epoch    GPU_mem       loss  Instances       Size\n"
     ]
    },
    {
     "name": "stderr",
     "output_type": "stream",
     "text": [
      "     14/100      11.2G     0.4925         35        224: 100%|██████████| 160/160 [02:20<00:00,  1.14it/s]\n",
      "               classes   top1_acc   top5_acc: 100%|██████████| 20/20 [01:18<00:00,  3.94s/it]"
     ]
    },
    {
     "name": "stdout",
     "output_type": "stream",
     "text": [
      "                   all      0.686      0.912\n"
     ]
    },
    {
     "name": "stderr",
     "output_type": "stream",
     "text": [
      "\n"
     ]
    },
    {
     "name": "stdout",
     "output_type": "stream",
     "text": [
      "\n",
      "      Epoch    GPU_mem       loss  Instances       Size\n"
     ]
    },
    {
     "name": "stderr",
     "output_type": "stream",
     "text": [
      "     15/100      11.2G     0.4834         35        224: 100%|██████████| 160/160 [02:19<00:00,  1.15it/s]\n",
      "               classes   top1_acc   top5_acc: 100%|██████████| 20/20 [00:56<00:00,  2.83s/it]"
     ]
    },
    {
     "name": "stdout",
     "output_type": "stream",
     "text": [
      "                   all      0.695      0.898\n"
     ]
    },
    {
     "name": "stderr",
     "output_type": "stream",
     "text": [
      "\n"
     ]
    },
    {
     "name": "stdout",
     "output_type": "stream",
     "text": [
      "\n",
      "      Epoch    GPU_mem       loss  Instances       Size\n"
     ]
    },
    {
     "name": "stderr",
     "output_type": "stream",
     "text": [
      "     16/100      11.2G     0.5068         35        224: 100%|██████████| 160/160 [02:22<00:00,  1.13it/s]\n",
      "               classes   top1_acc   top5_acc: 100%|██████████| 20/20 [01:01<00:00,  3.08s/it]"
     ]
    },
    {
     "name": "stdout",
     "output_type": "stream",
     "text": [
      "                   all      0.715      0.922\n"
     ]
    },
    {
     "name": "stderr",
     "output_type": "stream",
     "text": [
      "\n"
     ]
    },
    {
     "name": "stdout",
     "output_type": "stream",
     "text": [
      "\n",
      "      Epoch    GPU_mem       loss  Instances       Size\n"
     ]
    },
    {
     "name": "stderr",
     "output_type": "stream",
     "text": [
      "     17/100      11.2G     0.4721         35        224: 100%|██████████| 160/160 [02:18<00:00,  1.15it/s]\n",
      "               classes   top1_acc   top5_acc: 100%|██████████| 20/20 [00:59<00:00,  2.97s/it]"
     ]
    },
    {
     "name": "stdout",
     "output_type": "stream",
     "text": [
      "                   all      0.709      0.925\n"
     ]
    },
    {
     "name": "stderr",
     "output_type": "stream",
     "text": [
      "\n"
     ]
    },
    {
     "name": "stdout",
     "output_type": "stream",
     "text": [
      "\n",
      "      Epoch    GPU_mem       loss  Instances       Size\n"
     ]
    },
    {
     "name": "stderr",
     "output_type": "stream",
     "text": [
      "     18/100      11.2G      0.489         35        224: 100%|██████████| 160/160 [01:54<00:00,  1.40it/s]\n",
      "               classes   top1_acc   top5_acc: 100%|██████████| 20/20 [00:45<00:00,  2.27s/it]"
     ]
    },
    {
     "name": "stdout",
     "output_type": "stream",
     "text": [
      "                   all      0.694      0.904\n"
     ]
    },
    {
     "name": "stderr",
     "output_type": "stream",
     "text": [
      "\n"
     ]
    },
    {
     "name": "stdout",
     "output_type": "stream",
     "text": [
      "\n",
      "      Epoch    GPU_mem       loss  Instances       Size\n"
     ]
    },
    {
     "name": "stderr",
     "output_type": "stream",
     "text": [
      "     19/100      11.2G     0.4601         35        224: 100%|██████████| 160/160 [01:53<00:00,  1.41it/s]\n",
      "               classes   top1_acc   top5_acc: 100%|██████████| 20/20 [00:45<00:00,  2.28s/it]"
     ]
    },
    {
     "name": "stdout",
     "output_type": "stream",
     "text": [
      "                   all      0.689      0.904\n"
     ]
    },
    {
     "name": "stderr",
     "output_type": "stream",
     "text": [
      "\n"
     ]
    },
    {
     "name": "stdout",
     "output_type": "stream",
     "text": [
      "\n",
      "      Epoch    GPU_mem       loss  Instances       Size\n"
     ]
    },
    {
     "name": "stderr",
     "output_type": "stream",
     "text": [
      "     20/100      11.2G     0.4464         35        224: 100%|██████████| 160/160 [02:28<00:00,  1.08it/s]\n",
      "               classes   top1_acc   top5_acc: 100%|██████████| 20/20 [00:56<00:00,  2.81s/it]"
     ]
    },
    {
     "name": "stdout",
     "output_type": "stream",
     "text": [
      "                   all      0.724       0.92\n"
     ]
    },
    {
     "name": "stderr",
     "output_type": "stream",
     "text": [
      "\n"
     ]
    },
    {
     "name": "stdout",
     "output_type": "stream",
     "text": [
      "\n",
      "      Epoch    GPU_mem       loss  Instances       Size\n"
     ]
    },
    {
     "name": "stderr",
     "output_type": "stream",
     "text": [
      "     21/100      11.2G     0.4272         35        224: 100%|██████████| 160/160 [02:30<00:00,  1.06it/s]\n",
      "               classes   top1_acc   top5_acc: 100%|██████████| 20/20 [00:44<00:00,  2.21s/it]"
     ]
    },
    {
     "name": "stdout",
     "output_type": "stream",
     "text": [
      "                   all      0.742      0.928\n"
     ]
    },
    {
     "name": "stderr",
     "output_type": "stream",
     "text": [
      "\n"
     ]
    },
    {
     "name": "stdout",
     "output_type": "stream",
     "text": [
      "\n",
      "      Epoch    GPU_mem       loss  Instances       Size\n"
     ]
    },
    {
     "name": "stderr",
     "output_type": "stream",
     "text": [
      "     22/100      11.2G     0.4302         35        224: 100%|██████████| 160/160 [02:35<00:00,  1.03it/s]\n",
      "               classes   top1_acc   top5_acc: 100%|██████████| 20/20 [01:06<00:00,  3.34s/it]"
     ]
    },
    {
     "name": "stdout",
     "output_type": "stream",
     "text": [
      "                   all      0.728      0.923\n"
     ]
    },
    {
     "name": "stderr",
     "output_type": "stream",
     "text": [
      "\n"
     ]
    },
    {
     "name": "stdout",
     "output_type": "stream",
     "text": [
      "\n",
      "      Epoch    GPU_mem       loss  Instances       Size\n"
     ]
    },
    {
     "name": "stderr",
     "output_type": "stream",
     "text": [
      "     23/100      11.2G     0.4355         35        224: 100%|██████████| 160/160 [02:26<00:00,  1.09it/s]\n",
      "               classes   top1_acc   top5_acc: 100%|██████████| 20/20 [00:54<00:00,  2.71s/it]"
     ]
    },
    {
     "name": "stdout",
     "output_type": "stream",
     "text": [
      "                   all      0.742      0.931\n"
     ]
    },
    {
     "name": "stderr",
     "output_type": "stream",
     "text": [
      "\n"
     ]
    },
    {
     "name": "stdout",
     "output_type": "stream",
     "text": [
      "\n",
      "      Epoch    GPU_mem       loss  Instances       Size\n"
     ]
    },
    {
     "name": "stderr",
     "output_type": "stream",
     "text": [
      "     24/100      11.2G     0.4265         35        224: 100%|██████████| 160/160 [02:31<00:00,  1.06it/s]\n",
      "               classes   top1_acc   top5_acc: 100%|██████████| 20/20 [00:56<00:00,  2.81s/it]"
     ]
    },
    {
     "name": "stdout",
     "output_type": "stream",
     "text": [
      "                   all      0.747      0.919\n"
     ]
    },
    {
     "name": "stderr",
     "output_type": "stream",
     "text": [
      "\n"
     ]
    },
    {
     "name": "stdout",
     "output_type": "stream",
     "text": [
      "\n",
      "      Epoch    GPU_mem       loss  Instances       Size\n"
     ]
    },
    {
     "name": "stderr",
     "output_type": "stream",
     "text": [
      "     25/100      11.2G     0.4016         35        224: 100%|██████████| 160/160 [02:17<00:00,  1.17it/s]\n",
      "               classes   top1_acc   top5_acc: 100%|██████████| 20/20 [00:54<00:00,  2.70s/it]"
     ]
    },
    {
     "name": "stdout",
     "output_type": "stream",
     "text": [
      "                   all      0.753      0.937\n"
     ]
    },
    {
     "name": "stderr",
     "output_type": "stream",
     "text": [
      "\n"
     ]
    },
    {
     "name": "stdout",
     "output_type": "stream",
     "text": [
      "\n",
      "      Epoch    GPU_mem       loss  Instances       Size\n"
     ]
    },
    {
     "name": "stderr",
     "output_type": "stream",
     "text": [
      "     26/100      11.2G     0.4025         35        224: 100%|██████████| 160/160 [02:34<00:00,  1.04it/s]\n",
      "               classes   top1_acc   top5_acc: 100%|██████████| 20/20 [00:55<00:00,  2.76s/it]"
     ]
    },
    {
     "name": "stdout",
     "output_type": "stream",
     "text": [
      "                   all      0.765       0.94\n"
     ]
    },
    {
     "name": "stderr",
     "output_type": "stream",
     "text": [
      "\n"
     ]
    },
    {
     "name": "stdout",
     "output_type": "stream",
     "text": [
      "\n",
      "      Epoch    GPU_mem       loss  Instances       Size\n"
     ]
    },
    {
     "name": "stderr",
     "output_type": "stream",
     "text": [
      "     27/100      11.2G     0.3923         35        224: 100%|██████████| 160/160 [02:30<00:00,  1.07it/s]\n",
      "               classes   top1_acc   top5_acc: 100%|██████████| 20/20 [00:46<00:00,  2.33s/it]"
     ]
    },
    {
     "name": "stdout",
     "output_type": "stream",
     "text": [
      "                   all      0.742      0.937\n"
     ]
    },
    {
     "name": "stderr",
     "output_type": "stream",
     "text": [
      "\n"
     ]
    },
    {
     "name": "stdout",
     "output_type": "stream",
     "text": [
      "\n",
      "      Epoch    GPU_mem       loss  Instances       Size\n"
     ]
    },
    {
     "name": "stderr",
     "output_type": "stream",
     "text": [
      "     28/100      11.2G     0.3834         35        224: 100%|██████████| 160/160 [02:36<00:00,  1.03it/s]\n",
      "               classes   top1_acc   top5_acc: 100%|██████████| 20/20 [00:58<00:00,  2.92s/it]"
     ]
    },
    {
     "name": "stdout",
     "output_type": "stream",
     "text": [
      "                   all      0.769      0.937\n"
     ]
    },
    {
     "name": "stderr",
     "output_type": "stream",
     "text": [
      "\n"
     ]
    },
    {
     "name": "stdout",
     "output_type": "stream",
     "text": [
      "\n",
      "      Epoch    GPU_mem       loss  Instances       Size\n"
     ]
    },
    {
     "name": "stderr",
     "output_type": "stream",
     "text": [
      "     29/100      11.2G      0.373         35        224: 100%|██████████| 160/160 [02:13<00:00,  1.20it/s]\n",
      "               classes   top1_acc   top5_acc: 100%|██████████| 20/20 [00:45<00:00,  2.30s/it]"
     ]
    },
    {
     "name": "stdout",
     "output_type": "stream",
     "text": [
      "                   all      0.758      0.926\n"
     ]
    },
    {
     "name": "stderr",
     "output_type": "stream",
     "text": [
      "\n"
     ]
    },
    {
     "name": "stdout",
     "output_type": "stream",
     "text": [
      "\n",
      "      Epoch    GPU_mem       loss  Instances       Size\n"
     ]
    },
    {
     "name": "stderr",
     "output_type": "stream",
     "text": [
      "     30/100      11.2G     0.3711         35        224: 100%|██████████| 160/160 [01:55<00:00,  1.39it/s]\n",
      "               classes   top1_acc   top5_acc: 100%|██████████| 20/20 [00:38<00:00,  1.93s/it]"
     ]
    },
    {
     "name": "stdout",
     "output_type": "stream",
     "text": [
      "                   all      0.765      0.942\n"
     ]
    },
    {
     "name": "stderr",
     "output_type": "stream",
     "text": [
      "\n"
     ]
    },
    {
     "name": "stdout",
     "output_type": "stream",
     "text": [
      "\n",
      "      Epoch    GPU_mem       loss  Instances       Size\n"
     ]
    },
    {
     "name": "stderr",
     "output_type": "stream",
     "text": [
      "     31/100      11.2G      0.376         35        224: 100%|██████████| 160/160 [02:21<00:00,  1.13it/s]\n",
      "               classes   top1_acc   top5_acc: 100%|██████████| 20/20 [00:44<00:00,  2.23s/it]"
     ]
    },
    {
     "name": "stdout",
     "output_type": "stream",
     "text": [
      "                   all      0.755      0.923\n"
     ]
    },
    {
     "name": "stderr",
     "output_type": "stream",
     "text": [
      "\n"
     ]
    },
    {
     "name": "stdout",
     "output_type": "stream",
     "text": [
      "\n",
      "      Epoch    GPU_mem       loss  Instances       Size\n"
     ]
    },
    {
     "name": "stderr",
     "output_type": "stream",
     "text": [
      "     32/100      11.2G     0.3566         35        224: 100%|██████████| 160/160 [02:35<00:00,  1.03it/s]\n",
      "               classes   top1_acc   top5_acc: 100%|██████████| 20/20 [00:58<00:00,  2.91s/it]"
     ]
    },
    {
     "name": "stdout",
     "output_type": "stream",
     "text": [
      "                   all      0.738      0.924\n"
     ]
    },
    {
     "name": "stderr",
     "output_type": "stream",
     "text": [
      "\n"
     ]
    },
    {
     "name": "stdout",
     "output_type": "stream",
     "text": [
      "\n",
      "      Epoch    GPU_mem       loss  Instances       Size\n"
     ]
    },
    {
     "name": "stderr",
     "output_type": "stream",
     "text": [
      "     33/100      11.2G     0.3413         35        224: 100%|██████████| 160/160 [02:39<00:00,  1.00it/s]\n",
      "               classes   top1_acc   top5_acc: 100%|██████████| 20/20 [00:44<00:00,  2.22s/it]"
     ]
    },
    {
     "name": "stdout",
     "output_type": "stream",
     "text": [
      "                   all      0.764      0.927\n"
     ]
    },
    {
     "name": "stderr",
     "output_type": "stream",
     "text": [
      "\n"
     ]
    },
    {
     "name": "stdout",
     "output_type": "stream",
     "text": [
      "\n",
      "      Epoch    GPU_mem       loss  Instances       Size\n"
     ]
    },
    {
     "name": "stderr",
     "output_type": "stream",
     "text": [
      "     34/100      11.2G     0.3383         35        224: 100%|██████████| 160/160 [02:34<00:00,  1.04it/s]\n",
      "               classes   top1_acc   top5_acc: 100%|██████████| 20/20 [01:03<00:00,  3.18s/it]"
     ]
    },
    {
     "name": "stdout",
     "output_type": "stream",
     "text": [
      "                   all      0.772      0.943\n"
     ]
    },
    {
     "name": "stderr",
     "output_type": "stream",
     "text": [
      "\n"
     ]
    },
    {
     "name": "stdout",
     "output_type": "stream",
     "text": [
      "\n",
      "      Epoch    GPU_mem       loss  Instances       Size\n"
     ]
    },
    {
     "name": "stderr",
     "output_type": "stream",
     "text": [
      "     35/100      11.2G     0.3332         35        224: 100%|██████████| 160/160 [02:32<00:00,  1.05it/s]\n",
      "               classes   top1_acc   top5_acc: 100%|██████████| 20/20 [00:45<00:00,  2.27s/it]"
     ]
    },
    {
     "name": "stdout",
     "output_type": "stream",
     "text": [
      "                   all       0.76      0.934\n"
     ]
    },
    {
     "name": "stderr",
     "output_type": "stream",
     "text": [
      "\n"
     ]
    },
    {
     "name": "stdout",
     "output_type": "stream",
     "text": [
      "\n",
      "      Epoch    GPU_mem       loss  Instances       Size\n"
     ]
    },
    {
     "name": "stderr",
     "output_type": "stream",
     "text": [
      "     36/100      11.2G      0.306         35        224: 100%|██████████| 160/160 [02:39<00:00,  1.00it/s]\n",
      "               classes   top1_acc   top5_acc: 100%|██████████| 20/20 [00:59<00:00,  2.98s/it]"
     ]
    },
    {
     "name": "stdout",
     "output_type": "stream",
     "text": [
      "                   all      0.773      0.941\n"
     ]
    },
    {
     "name": "stderr",
     "output_type": "stream",
     "text": [
      "\n"
     ]
    },
    {
     "name": "stdout",
     "output_type": "stream",
     "text": [
      "\n",
      "      Epoch    GPU_mem       loss  Instances       Size\n"
     ]
    },
    {
     "name": "stderr",
     "output_type": "stream",
     "text": [
      "     37/100      11.2G     0.3173         35        224: 100%|██████████| 160/160 [02:42<00:00,  1.01s/it]\n",
      "               classes   top1_acc   top5_acc: 100%|██████████| 20/20 [00:46<00:00,  2.34s/it]"
     ]
    },
    {
     "name": "stdout",
     "output_type": "stream",
     "text": [
      "                   all      0.774       0.94\n"
     ]
    },
    {
     "name": "stderr",
     "output_type": "stream",
     "text": [
      "\n"
     ]
    },
    {
     "name": "stdout",
     "output_type": "stream",
     "text": [
      "\n",
      "      Epoch    GPU_mem       loss  Instances       Size\n"
     ]
    },
    {
     "name": "stderr",
     "output_type": "stream",
     "text": [
      "     38/100      11.2G     0.3236         35        224: 100%|██████████| 160/160 [02:43<00:00,  1.02s/it]\n",
      "               classes   top1_acc   top5_acc: 100%|██████████| 20/20 [00:59<00:00,  2.98s/it]"
     ]
    },
    {
     "name": "stdout",
     "output_type": "stream",
     "text": [
      "                   all      0.783      0.944\n"
     ]
    },
    {
     "name": "stderr",
     "output_type": "stream",
     "text": [
      "\n"
     ]
    },
    {
     "name": "stdout",
     "output_type": "stream",
     "text": [
      "\n",
      "      Epoch    GPU_mem       loss  Instances       Size\n"
     ]
    },
    {
     "name": "stderr",
     "output_type": "stream",
     "text": [
      "     39/100      11.2G     0.3159         35        224: 100%|██████████| 160/160 [02:21<00:00,  1.13it/s]\n",
      "               classes   top1_acc   top5_acc: 100%|██████████| 20/20 [00:43<00:00,  2.19s/it]"
     ]
    },
    {
     "name": "stdout",
     "output_type": "stream",
     "text": [
      "                   all      0.795      0.938\n"
     ]
    },
    {
     "name": "stderr",
     "output_type": "stream",
     "text": [
      "\n"
     ]
    },
    {
     "name": "stdout",
     "output_type": "stream",
     "text": [
      "\n",
      "      Epoch    GPU_mem       loss  Instances       Size\n"
     ]
    },
    {
     "name": "stderr",
     "output_type": "stream",
     "text": [
      "     40/100      11.2G     0.2755         35        224: 100%|██████████| 160/160 [02:30<00:00,  1.06it/s]\n",
      "               classes   top1_acc   top5_acc: 100%|██████████| 20/20 [01:07<00:00,  3.40s/it]"
     ]
    },
    {
     "name": "stdout",
     "output_type": "stream",
     "text": [
      "                   all      0.789      0.932\n"
     ]
    },
    {
     "name": "stderr",
     "output_type": "stream",
     "text": [
      "\n"
     ]
    },
    {
     "name": "stdout",
     "output_type": "stream",
     "text": [
      "\n",
      "      Epoch    GPU_mem       loss  Instances       Size\n"
     ]
    },
    {
     "name": "stderr",
     "output_type": "stream",
     "text": [
      "     41/100      11.2G     0.2972         35        224: 100%|██████████| 160/160 [02:11<00:00,  1.21it/s]\n",
      "               classes   top1_acc   top5_acc: 100%|██████████| 20/20 [00:44<00:00,  2.20s/it]"
     ]
    },
    {
     "name": "stdout",
     "output_type": "stream",
     "text": [
      "                   all      0.782      0.946\n"
     ]
    },
    {
     "name": "stderr",
     "output_type": "stream",
     "text": [
      "\n"
     ]
    },
    {
     "name": "stdout",
     "output_type": "stream",
     "text": [
      "\n",
      "      Epoch    GPU_mem       loss  Instances       Size\n"
     ]
    },
    {
     "name": "stderr",
     "output_type": "stream",
     "text": [
      "     42/100      11.2G     0.2923         35        224: 100%|██████████| 160/160 [02:42<00:00,  1.01s/it]\n",
      "               classes   top1_acc   top5_acc: 100%|██████████| 20/20 [00:59<00:00,  2.98s/it]"
     ]
    },
    {
     "name": "stdout",
     "output_type": "stream",
     "text": [
      "                   all      0.786      0.933\n"
     ]
    },
    {
     "name": "stderr",
     "output_type": "stream",
     "text": [
      "\n"
     ]
    },
    {
     "name": "stdout",
     "output_type": "stream",
     "text": [
      "\n",
      "      Epoch    GPU_mem       loss  Instances       Size\n"
     ]
    },
    {
     "name": "stderr",
     "output_type": "stream",
     "text": [
      "     43/100      11.2G     0.2929         35        224: 100%|██████████| 160/160 [02:19<00:00,  1.15it/s]\n",
      "               classes   top1_acc   top5_acc: 100%|██████████| 20/20 [00:43<00:00,  2.19s/it]"
     ]
    },
    {
     "name": "stdout",
     "output_type": "stream",
     "text": [
      "                   all      0.803      0.941\n"
     ]
    },
    {
     "name": "stderr",
     "output_type": "stream",
     "text": [
      "\n"
     ]
    },
    {
     "name": "stdout",
     "output_type": "stream",
     "text": [
      "\n",
      "      Epoch    GPU_mem       loss  Instances       Size\n"
     ]
    },
    {
     "name": "stderr",
     "output_type": "stream",
     "text": [
      "     44/100      11.2G      0.255         35        224: 100%|██████████| 160/160 [01:56<00:00,  1.37it/s]\n",
      "               classes   top1_acc   top5_acc: 100%|██████████| 20/20 [00:40<00:00,  2.01s/it]"
     ]
    },
    {
     "name": "stdout",
     "output_type": "stream",
     "text": [
      "                   all      0.797      0.939\n"
     ]
    },
    {
     "name": "stderr",
     "output_type": "stream",
     "text": [
      "\n"
     ]
    },
    {
     "name": "stdout",
     "output_type": "stream",
     "text": [
      "\n",
      "      Epoch    GPU_mem       loss  Instances       Size\n"
     ]
    },
    {
     "name": "stderr",
     "output_type": "stream",
     "text": [
      "     45/100      11.2G     0.2825         35        224: 100%|██████████| 160/160 [02:18<00:00,  1.15it/s]\n",
      "               classes   top1_acc   top5_acc: 100%|██████████| 20/20 [00:50<00:00,  2.53s/it]"
     ]
    },
    {
     "name": "stdout",
     "output_type": "stream",
     "text": [
      "                   all      0.797      0.939\n"
     ]
    },
    {
     "name": "stderr",
     "output_type": "stream",
     "text": [
      "\n"
     ]
    },
    {
     "name": "stdout",
     "output_type": "stream",
     "text": [
      "\n",
      "      Epoch    GPU_mem       loss  Instances       Size\n"
     ]
    },
    {
     "name": "stderr",
     "output_type": "stream",
     "text": [
      "     46/100      11.2G     0.2556         35        224: 100%|██████████| 160/160 [02:01<00:00,  1.32it/s]\n",
      "               classes   top1_acc   top5_acc: 100%|██████████| 20/20 [00:55<00:00,  2.80s/it]"
     ]
    },
    {
     "name": "stdout",
     "output_type": "stream",
     "text": [
      "                   all        0.8      0.952\n"
     ]
    },
    {
     "name": "stderr",
     "output_type": "stream",
     "text": [
      "\n"
     ]
    },
    {
     "name": "stdout",
     "output_type": "stream",
     "text": [
      "\n",
      "      Epoch    GPU_mem       loss  Instances       Size\n"
     ]
    },
    {
     "name": "stderr",
     "output_type": "stream",
     "text": [
      "     47/100      11.2G      0.258         35        224: 100%|██████████| 160/160 [01:53<00:00,  1.41it/s]\n",
      "               classes   top1_acc   top5_acc: 100%|██████████| 20/20 [00:42<00:00,  2.11s/it]"
     ]
    },
    {
     "name": "stdout",
     "output_type": "stream",
     "text": [
      "                   all      0.797      0.944\n"
     ]
    },
    {
     "name": "stderr",
     "output_type": "stream",
     "text": [
      "\n"
     ]
    },
    {
     "name": "stdout",
     "output_type": "stream",
     "text": [
      "\n",
      "      Epoch    GPU_mem       loss  Instances       Size\n"
     ]
    },
    {
     "name": "stderr",
     "output_type": "stream",
     "text": [
      "     48/100      11.2G     0.2565         35        224: 100%|██████████| 160/160 [01:57<00:00,  1.36it/s]\n",
      "               classes   top1_acc   top5_acc: 100%|██████████| 20/20 [00:45<00:00,  2.27s/it]"
     ]
    },
    {
     "name": "stdout",
     "output_type": "stream",
     "text": [
      "                   all      0.788      0.944\n"
     ]
    },
    {
     "name": "stderr",
     "output_type": "stream",
     "text": [
      "\n"
     ]
    },
    {
     "name": "stdout",
     "output_type": "stream",
     "text": [
      "\n",
      "      Epoch    GPU_mem       loss  Instances       Size\n"
     ]
    },
    {
     "name": "stderr",
     "output_type": "stream",
     "text": [
      "     49/100      11.2G     0.2457         35        224: 100%|██████████| 160/160 [01:50<00:00,  1.45it/s]\n",
      "               classes   top1_acc   top5_acc: 100%|██████████| 20/20 [00:45<00:00,  2.28s/it]"
     ]
    },
    {
     "name": "stdout",
     "output_type": "stream",
     "text": [
      "                   all      0.798       0.95\n"
     ]
    },
    {
     "name": "stderr",
     "output_type": "stream",
     "text": [
      "\n"
     ]
    },
    {
     "name": "stdout",
     "output_type": "stream",
     "text": [
      "\n",
      "      Epoch    GPU_mem       loss  Instances       Size\n"
     ]
    },
    {
     "name": "stderr",
     "output_type": "stream",
     "text": [
      "     50/100      11.2G     0.2316         35        224: 100%|██████████| 160/160 [01:54<00:00,  1.40it/s]\n",
      "               classes   top1_acc   top5_acc: 100%|██████████| 20/20 [00:41<00:00,  2.06s/it]"
     ]
    },
    {
     "name": "stdout",
     "output_type": "stream",
     "text": [
      "                   all      0.798      0.938\n"
     ]
    },
    {
     "name": "stderr",
     "output_type": "stream",
     "text": [
      "\n"
     ]
    },
    {
     "name": "stdout",
     "output_type": "stream",
     "text": [
      "\n",
      "      Epoch    GPU_mem       loss  Instances       Size\n"
     ]
    },
    {
     "name": "stderr",
     "output_type": "stream",
     "text": [
      "     51/100      11.2G     0.2215         35        224: 100%|██████████| 160/160 [01:48<00:00,  1.47it/s]\n",
      "               classes   top1_acc   top5_acc: 100%|██████████| 20/20 [00:41<00:00,  2.08s/it]"
     ]
    },
    {
     "name": "stdout",
     "output_type": "stream",
     "text": [
      "                   all      0.803      0.939\n"
     ]
    },
    {
     "name": "stderr",
     "output_type": "stream",
     "text": [
      "\n"
     ]
    },
    {
     "name": "stdout",
     "output_type": "stream",
     "text": [
      "\n",
      "      Epoch    GPU_mem       loss  Instances       Size\n"
     ]
    },
    {
     "name": "stderr",
     "output_type": "stream",
     "text": [
      "     52/100      11.2G     0.2267         35        224: 100%|██████████| 160/160 [01:54<00:00,  1.39it/s]\n",
      "               classes   top1_acc   top5_acc: 100%|██████████| 20/20 [00:39<00:00,  1.98s/it]"
     ]
    },
    {
     "name": "stdout",
     "output_type": "stream",
     "text": [
      "                   all        0.8      0.946\n"
     ]
    },
    {
     "name": "stderr",
     "output_type": "stream",
     "text": [
      "\n"
     ]
    },
    {
     "name": "stdout",
     "output_type": "stream",
     "text": [
      "\n",
      "      Epoch    GPU_mem       loss  Instances       Size\n"
     ]
    },
    {
     "name": "stderr",
     "output_type": "stream",
     "text": [
      "     53/100      11.2G     0.2416         35        224: 100%|██████████| 160/160 [01:54<00:00,  1.39it/s]\n",
      "               classes   top1_acc   top5_acc: 100%|██████████| 20/20 [00:40<00:00,  2.04s/it]"
     ]
    },
    {
     "name": "stdout",
     "output_type": "stream",
     "text": [
      "                   all      0.788      0.942\n"
     ]
    },
    {
     "name": "stderr",
     "output_type": "stream",
     "text": [
      "\n"
     ]
    },
    {
     "name": "stdout",
     "output_type": "stream",
     "text": [
      "\n",
      "      Epoch    GPU_mem       loss  Instances       Size\n"
     ]
    },
    {
     "name": "stderr",
     "output_type": "stream",
     "text": [
      "     54/100      11.2G     0.2239         35        224: 100%|██████████| 160/160 [02:00<00:00,  1.32it/s]\n",
      "               classes   top1_acc   top5_acc: 100%|██████████| 20/20 [01:00<00:00,  3.00s/it]"
     ]
    },
    {
     "name": "stdout",
     "output_type": "stream",
     "text": [
      "                   all      0.794      0.944\n"
     ]
    },
    {
     "name": "stderr",
     "output_type": "stream",
     "text": [
      "\n"
     ]
    },
    {
     "name": "stdout",
     "output_type": "stream",
     "text": [
      "\n",
      "      Epoch    GPU_mem       loss  Instances       Size\n"
     ]
    },
    {
     "name": "stderr",
     "output_type": "stream",
     "text": [
      "     55/100      11.2G     0.2121         35        224: 100%|██████████| 160/160 [02:06<00:00,  1.27it/s]\n",
      "               classes   top1_acc   top5_acc: 100%|██████████| 20/20 [00:41<00:00,  2.07s/it]"
     ]
    },
    {
     "name": "stdout",
     "output_type": "stream",
     "text": [
      "                   all      0.798      0.936\n"
     ]
    },
    {
     "name": "stderr",
     "output_type": "stream",
     "text": [
      "\n"
     ]
    },
    {
     "name": "stdout",
     "output_type": "stream",
     "text": [
      "\n",
      "      Epoch    GPU_mem       loss  Instances       Size\n"
     ]
    },
    {
     "name": "stderr",
     "output_type": "stream",
     "text": [
      "     56/100      11.2G     0.2102         35        224: 100%|██████████| 160/160 [02:01<00:00,  1.32it/s]\n",
      "               classes   top1_acc   top5_acc: 100%|██████████| 20/20 [01:06<00:00,  3.34s/it]"
     ]
    },
    {
     "name": "stdout",
     "output_type": "stream",
     "text": [
      "                   all      0.789      0.941\n"
     ]
    },
    {
     "name": "stderr",
     "output_type": "stream",
     "text": [
      "\n"
     ]
    },
    {
     "name": "stdout",
     "output_type": "stream",
     "text": [
      "\n",
      "      Epoch    GPU_mem       loss  Instances       Size\n"
     ]
    },
    {
     "name": "stderr",
     "output_type": "stream",
     "text": [
      "     57/100      11.2G     0.1849         35        224: 100%|██████████| 160/160 [01:59<00:00,  1.33it/s]\n",
      "               classes   top1_acc   top5_acc: 100%|██████████| 20/20 [00:44<00:00,  2.24s/it]"
     ]
    },
    {
     "name": "stdout",
     "output_type": "stream",
     "text": [
      "                   all      0.797      0.945\n"
     ]
    },
    {
     "name": "stderr",
     "output_type": "stream",
     "text": [
      "\n"
     ]
    },
    {
     "name": "stdout",
     "output_type": "stream",
     "text": [
      "\n",
      "      Epoch    GPU_mem       loss  Instances       Size\n"
     ]
    },
    {
     "name": "stderr",
     "output_type": "stream",
     "text": [
      "     58/100      11.2G      0.204         35        224: 100%|██████████| 160/160 [01:52<00:00,  1.42it/s]\n",
      "               classes   top1_acc   top5_acc: 100%|██████████| 20/20 [00:42<00:00,  2.12s/it]"
     ]
    },
    {
     "name": "stdout",
     "output_type": "stream",
     "text": [
      "                   all      0.806      0.947\n"
     ]
    },
    {
     "name": "stderr",
     "output_type": "stream",
     "text": [
      "\n"
     ]
    },
    {
     "name": "stdout",
     "output_type": "stream",
     "text": [
      "\n",
      "      Epoch    GPU_mem       loss  Instances       Size\n"
     ]
    },
    {
     "name": "stderr",
     "output_type": "stream",
     "text": [
      "     59/100      11.2G     0.1758         35        224: 100%|██████████| 160/160 [02:18<00:00,  1.16it/s]\n",
      "               classes   top1_acc   top5_acc: 100%|██████████| 20/20 [00:54<00:00,  2.73s/it]"
     ]
    },
    {
     "name": "stdout",
     "output_type": "stream",
     "text": [
      "                   all      0.812      0.953\n"
     ]
    },
    {
     "name": "stderr",
     "output_type": "stream",
     "text": [
      "\n"
     ]
    },
    {
     "name": "stdout",
     "output_type": "stream",
     "text": [
      "\n",
      "      Epoch    GPU_mem       loss  Instances       Size\n"
     ]
    },
    {
     "name": "stderr",
     "output_type": "stream",
     "text": [
      "     60/100      11.2G     0.1762         35        224: 100%|██████████| 160/160 [02:22<00:00,  1.12it/s]\n",
      "               classes   top1_acc   top5_acc: 100%|██████████| 20/20 [01:00<00:00,  3.02s/it]"
     ]
    },
    {
     "name": "stdout",
     "output_type": "stream",
     "text": [
      "                   all      0.807      0.941\n"
     ]
    },
    {
     "name": "stderr",
     "output_type": "stream",
     "text": [
      "\n"
     ]
    },
    {
     "name": "stdout",
     "output_type": "stream",
     "text": [
      "\n",
      "      Epoch    GPU_mem       loss  Instances       Size\n"
     ]
    },
    {
     "name": "stderr",
     "output_type": "stream",
     "text": [
      "     61/100      11.2G     0.1819         35        224: 100%|██████████| 160/160 [01:58<00:00,  1.35it/s]\n",
      "               classes   top1_acc   top5_acc: 100%|██████████| 20/20 [00:42<00:00,  2.11s/it]"
     ]
    },
    {
     "name": "stdout",
     "output_type": "stream",
     "text": [
      "                   all      0.807      0.943\n"
     ]
    },
    {
     "name": "stderr",
     "output_type": "stream",
     "text": [
      "\n"
     ]
    },
    {
     "name": "stdout",
     "output_type": "stream",
     "text": [
      "\n",
      "      Epoch    GPU_mem       loss  Instances       Size\n"
     ]
    },
    {
     "name": "stderr",
     "output_type": "stream",
     "text": [
      "     62/100      11.2G     0.1722         35        224: 100%|██████████| 160/160 [01:50<00:00,  1.45it/s]\n",
      "               classes   top1_acc   top5_acc: 100%|██████████| 20/20 [00:43<00:00,  2.19s/it]"
     ]
    },
    {
     "name": "stdout",
     "output_type": "stream",
     "text": [
      "                   all      0.805      0.947\n"
     ]
    },
    {
     "name": "stderr",
     "output_type": "stream",
     "text": [
      "\n"
     ]
    },
    {
     "name": "stdout",
     "output_type": "stream",
     "text": [
      "\n",
      "      Epoch    GPU_mem       loss  Instances       Size\n"
     ]
    },
    {
     "name": "stderr",
     "output_type": "stream",
     "text": [
      "     63/100      11.2G     0.1688         35        224: 100%|██████████| 160/160 [02:12<00:00,  1.21it/s]\n",
      "               classes   top1_acc   top5_acc: 100%|██████████| 20/20 [01:03<00:00,  3.18s/it]"
     ]
    },
    {
     "name": "stdout",
     "output_type": "stream",
     "text": [
      "                   all      0.791      0.939\n"
     ]
    },
    {
     "name": "stderr",
     "output_type": "stream",
     "text": [
      "\n"
     ]
    },
    {
     "name": "stdout",
     "output_type": "stream",
     "text": [
      "\n",
      "      Epoch    GPU_mem       loss  Instances       Size\n"
     ]
    },
    {
     "name": "stderr",
     "output_type": "stream",
     "text": [
      "     64/100      11.2G     0.1858         35        224: 100%|██████████| 160/160 [02:18<00:00,  1.16it/s]\n",
      "               classes   top1_acc   top5_acc: 100%|██████████| 20/20 [00:57<00:00,  2.89s/it]"
     ]
    },
    {
     "name": "stdout",
     "output_type": "stream",
     "text": [
      "                   all      0.795      0.943\n"
     ]
    },
    {
     "name": "stderr",
     "output_type": "stream",
     "text": [
      "\n"
     ]
    },
    {
     "name": "stdout",
     "output_type": "stream",
     "text": [
      "\n",
      "      Epoch    GPU_mem       loss  Instances       Size\n"
     ]
    },
    {
     "name": "stderr",
     "output_type": "stream",
     "text": [
      "     65/100      11.2G      0.165         35        224: 100%|██████████| 160/160 [02:31<00:00,  1.06it/s]\n",
      "               classes   top1_acc   top5_acc: 100%|██████████| 20/20 [00:49<00:00,  2.46s/it]"
     ]
    },
    {
     "name": "stdout",
     "output_type": "stream",
     "text": [
      "                   all      0.801      0.949\n"
     ]
    },
    {
     "name": "stderr",
     "output_type": "stream",
     "text": [
      "\n"
     ]
    },
    {
     "name": "stdout",
     "output_type": "stream",
     "text": [
      "\n",
      "      Epoch    GPU_mem       loss  Instances       Size\n"
     ]
    },
    {
     "name": "stderr",
     "output_type": "stream",
     "text": [
      "     66/100      11.2G     0.1589         35        224: 100%|██████████| 160/160 [01:58<00:00,  1.35it/s]\n",
      "               classes   top1_acc   top5_acc: 100%|██████████| 20/20 [00:46<00:00,  2.32s/it]"
     ]
    },
    {
     "name": "stdout",
     "output_type": "stream",
     "text": [
      "                   all      0.806      0.951\n"
     ]
    },
    {
     "name": "stderr",
     "output_type": "stream",
     "text": [
      "\n"
     ]
    },
    {
     "name": "stdout",
     "output_type": "stream",
     "text": [
      "\n",
      "      Epoch    GPU_mem       loss  Instances       Size\n"
     ]
    },
    {
     "name": "stderr",
     "output_type": "stream",
     "text": [
      "     67/100      11.2G       0.15         35        224: 100%|██████████| 160/160 [01:53<00:00,  1.41it/s]\n",
      "               classes   top1_acc   top5_acc: 100%|██████████| 20/20 [01:09<00:00,  3.46s/it]"
     ]
    },
    {
     "name": "stdout",
     "output_type": "stream",
     "text": [
      "                   all      0.804      0.945\n"
     ]
    },
    {
     "name": "stderr",
     "output_type": "stream",
     "text": [
      "\n"
     ]
    },
    {
     "name": "stdout",
     "output_type": "stream",
     "text": [
      "\n",
      "      Epoch    GPU_mem       loss  Instances       Size\n"
     ]
    },
    {
     "name": "stderr",
     "output_type": "stream",
     "text": [
      "     68/100      11.2G     0.1444         35        224: 100%|██████████| 160/160 [02:39<00:00,  1.00it/s]\n",
      "               classes   top1_acc   top5_acc: 100%|██████████| 20/20 [01:01<00:00,  3.07s/it]"
     ]
    },
    {
     "name": "stdout",
     "output_type": "stream",
     "text": [
      "                   all      0.811      0.944\n"
     ]
    },
    {
     "name": "stderr",
     "output_type": "stream",
     "text": [
      "\n"
     ]
    },
    {
     "name": "stdout",
     "output_type": "stream",
     "text": [
      "\n",
      "      Epoch    GPU_mem       loss  Instances       Size\n"
     ]
    },
    {
     "name": "stderr",
     "output_type": "stream",
     "text": [
      "     69/100      11.2G     0.1389         35        224: 100%|██████████| 160/160 [02:31<00:00,  1.05it/s]\n",
      "               classes   top1_acc   top5_acc: 100%|██████████| 20/20 [00:47<00:00,  2.37s/it]"
     ]
    },
    {
     "name": "stdout",
     "output_type": "stream",
     "text": [
      "                   all      0.814      0.947\n"
     ]
    },
    {
     "name": "stderr",
     "output_type": "stream",
     "text": [
      "\n"
     ]
    },
    {
     "name": "stdout",
     "output_type": "stream",
     "text": [
      "\n",
      "      Epoch    GPU_mem       loss  Instances       Size\n"
     ]
    },
    {
     "name": "stderr",
     "output_type": "stream",
     "text": [
      "     70/100      11.2G     0.1472         35        224: 100%|██████████| 160/160 [02:29<00:00,  1.07it/s]\n",
      "               classes   top1_acc   top5_acc: 100%|██████████| 20/20 [01:00<00:00,  3.02s/it]"
     ]
    },
    {
     "name": "stdout",
     "output_type": "stream",
     "text": [
      "                   all      0.811       0.95\n"
     ]
    },
    {
     "name": "stderr",
     "output_type": "stream",
     "text": [
      "\n"
     ]
    },
    {
     "name": "stdout",
     "output_type": "stream",
     "text": [
      "\n",
      "      Epoch    GPU_mem       loss  Instances       Size\n"
     ]
    },
    {
     "name": "stderr",
     "output_type": "stream",
     "text": [
      "     71/100      11.2G     0.1333         35        224: 100%|██████████| 160/160 [02:10<00:00,  1.23it/s]\n",
      "               classes   top1_acc   top5_acc: 100%|██████████| 20/20 [01:06<00:00,  3.35s/it]"
     ]
    },
    {
     "name": "stdout",
     "output_type": "stream",
     "text": [
      "                   all      0.802      0.953\n"
     ]
    },
    {
     "name": "stderr",
     "output_type": "stream",
     "text": [
      "\n"
     ]
    },
    {
     "name": "stdout",
     "output_type": "stream",
     "text": [
      "\n",
      "      Epoch    GPU_mem       loss  Instances       Size\n"
     ]
    },
    {
     "name": "stderr",
     "output_type": "stream",
     "text": [
      "     72/100      11.2G     0.1358         35        224: 100%|██████████| 160/160 [02:23<00:00,  1.12it/s]\n",
      "               classes   top1_acc   top5_acc: 100%|██████████| 20/20 [01:07<00:00,  3.40s/it]"
     ]
    },
    {
     "name": "stdout",
     "output_type": "stream",
     "text": [
      "                   all      0.798      0.952\n"
     ]
    },
    {
     "name": "stderr",
     "output_type": "stream",
     "text": [
      "\n"
     ]
    },
    {
     "name": "stdout",
     "output_type": "stream",
     "text": [
      "\n",
      "      Epoch    GPU_mem       loss  Instances       Size\n"
     ]
    },
    {
     "name": "stderr",
     "output_type": "stream",
     "text": [
      "     73/100      11.2G     0.1371         35        224: 100%|██████████| 160/160 [02:00<00:00,  1.33it/s]\n",
      "               classes   top1_acc   top5_acc: 100%|██████████| 20/20 [00:58<00:00,  2.92s/it]"
     ]
    },
    {
     "name": "stdout",
     "output_type": "stream",
     "text": [
      "                   all      0.806      0.954\n"
     ]
    },
    {
     "name": "stderr",
     "output_type": "stream",
     "text": [
      "\n"
     ]
    },
    {
     "name": "stdout",
     "output_type": "stream",
     "text": [
      "\n",
      "      Epoch    GPU_mem       loss  Instances       Size\n"
     ]
    },
    {
     "name": "stderr",
     "output_type": "stream",
     "text": [
      "     74/100      11.2G      0.116         35        224: 100%|██████████| 160/160 [02:27<00:00,  1.09it/s]\n",
      "               classes   top1_acc   top5_acc: 100%|██████████| 20/20 [01:01<00:00,  3.06s/it]"
     ]
    },
    {
     "name": "stdout",
     "output_type": "stream",
     "text": [
      "                   all       0.81      0.953\n",
      "\u001b[34m\u001b[1mEarlyStopping: \u001b[0mTraining stopped early as no improvement observed in last 15 epochs. Best results observed at epoch 59, best model saved as best.pt.\n",
      "To update EarlyStopping(patience=15) pass a new patience value, i.e. `patience=300` or use `patience=0` to disable EarlyStopping.\n"
     ]
    },
    {
     "name": "stderr",
     "output_type": "stream",
     "text": [
      "\n"
     ]
    },
    {
     "name": "stdout",
     "output_type": "stream",
     "text": [
      "\n",
      "74 epochs completed in 3.884 hours.\n",
      "Optimizer stripped from runs\\classify\\train4\\weights\\last.pt, 57.0MB\n",
      "Optimizer stripped from runs\\classify\\train4\\weights\\best.pt, 57.0MB\n",
      "\n",
      "Validating runs\\classify\\train4\\weights\\best.pt...\n",
      "Ultralytics 8.3.59  Python-3.9.19 torch-2.5.1+cu124 CUDA:0 (NVIDIA GeForce RTX 4070, 12282MiB)\n",
      "YOLO11x-cls summary (fused): 227 layers, 28,354,193 parameters, 0 gradients, 110.3 GFLOPs\n",
      "WARNING  Dataset 'split=val' not found, using 'split=test' instead.\n",
      "\u001b[34m\u001b[1mtrain:\u001b[0m D:\\GitHub\\Maltese-Christian-Statue-Classifier\\Augmented MCS Dataset Split\\train... found 20387 images in 17 classes  \n",
      "\u001b[34m\u001b[1mval:\u001b[0m None...\n",
      "\u001b[34m\u001b[1mtest:\u001b[0m D:\\GitHub\\Maltese-Christian-Statue-Classifier\\Augmented MCS Dataset Split\\test... found 5100 images in 17 classes  \n"
     ]
    },
    {
     "name": "stderr",
     "output_type": "stream",
     "text": [
      "               classes   top1_acc   top5_acc: 100%|██████████| 20/20 [00:05<00:00,  3.40it/s]\n"
     ]
    },
    {
     "name": "stdout",
     "output_type": "stream",
     "text": [
      "                   all      0.813      0.953\n",
      "Speed: 0.0ms preprocess, 0.7ms inference, 0.0ms loss, 0.0ms postprocess per image\n",
      "Results saved to \u001b[1mruns\\classify\\train4\u001b[0m\n"
     ]
    },
    {
     "data": {
      "text/plain": [
       "ultralytics.utils.metrics.ClassifyMetrics object with attributes:\n",
       "\n",
       "confusion_matrix: <ultralytics.utils.metrics.ConfusionMatrix object at 0x0000019C98D3B850>\n",
       "curves: []\n",
       "curves_results: []\n",
       "fitness: 0.8826470375061035\n",
       "keys: ['metrics/accuracy_top1', 'metrics/accuracy_top5']\n",
       "results_dict: {'metrics/accuracy_top1': 0.8125489950180054, 'metrics/accuracy_top5': 0.9527450799942017, 'fitness': 0.8826470375061035}\n",
       "save_dir: WindowsPath('runs/classify/train4')\n",
       "speed: {'preprocess': 0.048968417971741916, 'inference': 0.652008664374258, 'loss': 0.0, 'postprocess': 0.00019620446597828586}\n",
       "task: 'classify'\n",
       "top1: 0.8125489950180054\n",
       "top5: 0.9527450799942017"
      ]
     },
     "execution_count": 3,
     "metadata": {},
     "output_type": "execute_result"
    }
   ],
   "source": [
    "# import YOLO model\n",
    "from ultralytics import YOLO\n",
    "\n",
    "# Load a model\n",
    "model = YOLO('yolo11m-cls.pt') # load a pretrained model (recommended for training)\n",
    "\n",
    "# Train the model\n",
    "model.train(data='D:/GitHub/Maltese-Christian-Statue-Classifier/Augmented MCS Dataset Split', \n",
    "            epochs=100, \n",
    "            batch=128, \n",
    "            device= 0,  # Use GPU 0\n",
    "            optimizer= 'Adam',  # Use Adam optimizer\n",
    "            cache= True, #'disk',  # Cache images for faster training\n",
    "            patience= 15,  # epochs to wait before decreasing LR\n",
    "            weight_decay= 0.0005,  # Weight decay\n",
    "            lr0= 0.001,  # Initial learning rate\n",
    "            momentum= 0.9,  # Momentum\n",
    "            dropout= 0.5,  # Dropout rate\n",
    "            val= True,  # Run validation during training\n",
    "            plots= True,  # Run plots during training\n",
    "            verbose= True,  # Print detailed results\n",
    "            )"
   ]
  },
  {
   "cell_type": "markdown",
   "metadata": {},
   "source": [
    "### Evaluating the YOLO model"
   ]
  },
  {
   "cell_type": "code",
   "execution_count": 4,
   "metadata": {},
   "outputs": [],
   "source": [
    "# metrics = model.val(split=\"test\") # no arguments needed, dataset and settings remembered\n",
    "# metrics.top1 # top1 accuracy\n",
    "# metrics.top5 # top5 accuracy"
   ]
  },
  {
   "cell_type": "markdown",
   "metadata": {},
   "source": [
    "### Prediction on Images"
   ]
  },
  {
   "cell_type": "code",
   "execution_count": 5,
   "metadata": {},
   "outputs": [
    {
     "name": "stdout",
     "output_type": "stream",
     "text": [
      "\n",
      "image 1/1 d:\\GitHub\\Maltese-Christian-Statue-Classifier\\MCS Dataset\\Christmas Crib\\121960532_4030654523615342_425859488410538693_n.jpg: 224x224 Saint Philip of Agira 0.67, The Veronica 0.27, The Ecce Homo 0.02, The Monument 0.01, The Crucifixion 0.01, 3.5ms\n",
      "Speed: 13.5ms preprocess, 3.5ms inference, 0.0ms postprocess per image at shape (1, 3, 224, 224)\n"
     ]
    },
    {
     "data": {
      "text/plain": [
       "<Figure size 1000x700 with 1 Axes>"
      ]
     },
     "metadata": {},
     "output_type": "display_data"
    },
    {
     "name": "stdout",
     "output_type": "stream",
     "text": [
      "\n",
      "image 1/1 d:\\GitHub\\Maltese-Christian-Statue-Classifier\\MCS Dataset\\Christmas Crib\\121988132_4030650750282386_6216238816359705572_n.jpg: 224x224 The Flogged 0.79, Jesus praying in Gethsemane 0.12, The Ecce Homo 0.05, Jesus has Risen 0.03, The Crucifixion 0.01, 3.0ms\n",
      "Speed: 6.6ms preprocess, 3.0ms inference, 0.0ms postprocess per image at shape (1, 3, 224, 224)\n"
     ]
    },
    {
     "data": {
      "text/plain": [
       "<Figure size 1000x700 with 1 Axes>"
      ]
     },
     "metadata": {},
     "output_type": "display_data"
    },
    {
     "name": "stdout",
     "output_type": "stream",
     "text": [
      "\n",
      "image 1/1 d:\\GitHub\\Maltese-Christian-Statue-Classifier\\MCS Dataset\\Jesus has Risen\\11063760_10153526942450732_3570215296722781252_o.jpg: 224x224 Jesus has Risen 0.82, The Ecce Homo 0.08, The Monument 0.07, The Flogged 0.02, The Crucifixion 0.01, 4.0ms\n",
      "Speed: 4.0ms preprocess, 4.0ms inference, 0.0ms postprocess per image at shape (1, 3, 224, 224)\n"
     ]
    },
    {
     "data": {
      "text/plain": [
       "<Figure size 1000x700 with 1 Axes>"
      ]
     },
     "metadata": {},
     "output_type": "display_data"
    },
    {
     "name": "stdout",
     "output_type": "stream",
     "text": [
      "\n",
      "image 1/1 d:\\GitHub\\Maltese-Christian-Statue-Classifier\\MCS Dataset\\Jesus has Risen\\12022442_10153526942610732_127221472302263044_o.jpg: 224x224 Jesus has Risen 1.00, The Crucifixion 0.00, The Lady of Sorrows 0.00, The Ecce Homo 0.00, Simon of Cyrene 0.00, 3.5ms\n",
      "Speed: 3.0ms preprocess, 3.5ms inference, 0.0ms postprocess per image at shape (1, 3, 224, 224)\n"
     ]
    },
    {
     "data": {
      "text/plain": [
       "<Figure size 1000x700 with 1 Axes>"
      ]
     },
     "metadata": {},
     "output_type": "display_data"
    },
    {
     "name": "stdout",
     "output_type": "stream",
     "text": [
      "\n",
      "image 1/1 d:\\GitHub\\Maltese-Christian-Statue-Classifier\\MCS Dataset\\Jesus praying in Gethsemane\\011.JPG: 224x224 Jesus praying in Gethsemane 1.00, The Betrayal of Judas 0.00, The Crucifixion 0.00, The Lady of Sorrows 0.00, The Redeemer 0.00, 4.0ms\n",
      "Speed: 8.5ms preprocess, 4.0ms inference, 0.0ms postprocess per image at shape (1, 3, 224, 224)\n"
     ]
    },
    {
     "data": {
      "text/plain": [
       "<Figure size 1000x700 with 1 Axes>"
      ]
     },
     "metadata": {},
     "output_type": "display_data"
    },
    {
     "name": "stdout",
     "output_type": "stream",
     "text": [
      "\n",
      "image 1/1 d:\\GitHub\\Maltese-Christian-Statue-Classifier\\MCS Dataset\\Jesus praying in Gethsemane\\10007326_576843849089677_365853481_o.jpg: 224x224 Jesus praying in Gethsemane 1.00, The Betrayal of Judas 0.00, Jesus has Risen 0.00, The Crucifixion 0.00, The Lady of Sorrows 0.00, 3.0ms\n",
      "Speed: 5.5ms preprocess, 3.0ms inference, 0.0ms postprocess per image at shape (1, 3, 224, 224)\n"
     ]
    },
    {
     "data": {
      "text/plain": [
       "<Figure size 1000x700 with 1 Axes>"
      ]
     },
     "metadata": {},
     "output_type": "display_data"
    },
    {
     "name": "stdout",
     "output_type": "stream",
     "text": [
      "\n",
      "image 1/1 d:\\GitHub\\Maltese-Christian-Statue-Classifier\\MCS Dataset\\Our Lady of Grace\\116623713_918362858663099_4260138187212353875_n.jpg: 224x224 Our Lady of Grace 1.00, Saint Joseph 0.00, Saint Philip of Agira 0.00, The Cross 0.00, The Redeemer 0.00, 5.5ms\n",
      "Speed: 11.5ms preprocess, 5.5ms inference, 0.0ms postprocess per image at shape (1, 3, 224, 224)\n"
     ]
    },
    {
     "data": {
      "text/plain": [
       "<Figure size 1000x700 with 1 Axes>"
      ]
     },
     "metadata": {},
     "output_type": "display_data"
    },
    {
     "name": "stdout",
     "output_type": "stream",
     "text": [
      "\n",
      "image 1/1 d:\\GitHub\\Maltese-Christian-Statue-Classifier\\MCS Dataset\\Our Lady of Grace\\120194429_669271723710629_565051212040778366_n.jpg: 224x224 Our Lady of Grace 1.00, The Ecce Homo 0.00, The Redeemer 0.00, Saint Joseph 0.00, The Cross 0.00, 6.0ms\n",
      "Speed: 4.5ms preprocess, 6.0ms inference, 0.0ms postprocess per image at shape (1, 3, 224, 224)\n"
     ]
    },
    {
     "data": {
      "text/plain": [
       "<Figure size 1000x700 with 1 Axes>"
      ]
     },
     "metadata": {},
     "output_type": "display_data"
    },
    {
     "name": "stdout",
     "output_type": "stream",
     "text": [
      "\n",
      "image 1/1 d:\\GitHub\\Maltese-Christian-Statue-Classifier\\MCS Dataset\\Saint Joseph\\104473090_2926755327378742_1890932265076098324_n.jpg: 224x224 Saint Joseph 1.00, The Ecce Homo 0.00, Saint Philip of Agira 0.00, The Veronica 0.00, Our Lady of Grace 0.00, 5.5ms\n",
      "Speed: 8.9ms preprocess, 5.5ms inference, 0.0ms postprocess per image at shape (1, 3, 224, 224)\n"
     ]
    },
    {
     "data": {
      "text/plain": [
       "<Figure size 1000x700 with 1 Axes>"
      ]
     },
     "metadata": {},
     "output_type": "display_data"
    },
    {
     "name": "stdout",
     "output_type": "stream",
     "text": [
      "\n",
      "image 1/1 d:\\GitHub\\Maltese-Christian-Statue-Classifier\\MCS Dataset\\Saint Joseph\\107609219_2979287158792225_8516499388614223790_n.jpg: 224x224 The Monument 0.55, Saint Joseph 0.30, Our Lady of Grace 0.07, The Lady of Sorrows 0.03, The Crucifixion 0.01, 6.0ms\n",
      "Speed: 11.2ms preprocess, 6.0ms inference, 0.0ms postprocess per image at shape (1, 3, 224, 224)\n"
     ]
    },
    {
     "data": {
      "text/plain": [
       "<Figure size 1000x700 with 1 Axes>"
      ]
     },
     "metadata": {},
     "output_type": "display_data"
    },
    {
     "name": "stdout",
     "output_type": "stream",
     "text": [
      "\n",
      "image 1/1 d:\\GitHub\\Maltese-Christian-Statue-Classifier\\MCS Dataset\\Saint Philip of Agira\\101093538_872442613277103_121050479256928256_n.jpg: 224x224 Saint Philip of Agira 1.00, Saint Joseph 0.00, The Crucifixion 0.00, Simon of Cyrene 0.00, The Ecce Homo 0.00, 5.0ms\n",
      "Speed: 3.0ms preprocess, 5.0ms inference, 0.0ms postprocess per image at shape (1, 3, 224, 224)\n"
     ]
    },
    {
     "data": {
      "text/plain": [
       "<Figure size 1000x700 with 1 Axes>"
      ]
     },
     "metadata": {},
     "output_type": "display_data"
    },
    {
     "name": "stdout",
     "output_type": "stream",
     "text": [
      "\n",
      "image 1/1 d:\\GitHub\\Maltese-Christian-Statue-Classifier\\MCS Dataset\\Saint Philip of Agira\\101730445_875700446284653_3167047448858198016_n.jpg: 224x224 Saint Philip of Agira 1.00, Saint Joseph 0.00, Simon of Cyrene 0.00, The Crucifixion 0.00, The Ecce Homo 0.00, 5.0ms\n",
      "Speed: 4.5ms preprocess, 5.0ms inference, 0.0ms postprocess per image at shape (1, 3, 224, 224)\n"
     ]
    },
    {
     "data": {
      "text/plain": [
       "<Figure size 1000x700 with 1 Axes>"
      ]
     },
     "metadata": {},
     "output_type": "display_data"
    },
    {
     "name": "stdout",
     "output_type": "stream",
     "text": [
      "\n",
      "image 1/1 d:\\GitHub\\Maltese-Christian-Statue-Classifier\\MCS Dataset\\Simon of Cyrene\\10296491_591299580977437_4854014136817833368_o.jpg: 224x224 Simon of Cyrene 1.00, The Ecce Homo 0.00, The Veronica 0.00, The Redeemer 0.00, The Crucifixion 0.00, 6.0ms\n",
      "Speed: 11.5ms preprocess, 6.0ms inference, 0.0ms postprocess per image at shape (1, 3, 224, 224)\n"
     ]
    },
    {
     "data": {
      "text/plain": [
       "<Figure size 1000x700 with 1 Axes>"
      ]
     },
     "metadata": {},
     "output_type": "display_data"
    },
    {
     "name": "stdout",
     "output_type": "stream",
     "text": [
      "\n",
      "image 1/1 d:\\GitHub\\Maltese-Christian-Statue-Classifier\\MCS Dataset\\Simon of Cyrene\\10866181_791690374271689_4170390227140989951_o.jpg: 224x224 Simon of Cyrene 1.00, The Veronica 0.00, The Ecce Homo 0.00, The Redeemer 0.00, The Crucifixion 0.00, 5.0ms\n",
      "Speed: 11.5ms preprocess, 5.0ms inference, 0.0ms postprocess per image at shape (1, 3, 224, 224)\n"
     ]
    },
    {
     "data": {
      "text/plain": [
       "<Figure size 1000x700 with 1 Axes>"
      ]
     },
     "metadata": {},
     "output_type": "display_data"
    },
    {
     "name": "stdout",
     "output_type": "stream",
     "text": [
      "\n",
      "image 1/1 d:\\GitHub\\Maltese-Christian-Statue-Classifier\\MCS Dataset\\The Betrayal of Judas\\10259027_584804921626903_2161948603323559363_o.jpg: 224x224 The Betrayal of Judas 1.00, Jesus praying in Gethsemane 0.00, Simon of Cyrene 0.00, The Lady of Sorrows 0.00, The Ecce Homo 0.00, 5.5ms\n",
      "Speed: 10.5ms preprocess, 5.5ms inference, 1.0ms postprocess per image at shape (1, 3, 224, 224)\n"
     ]
    },
    {
     "data": {
      "text/plain": [
       "<Figure size 1000x700 with 1 Axes>"
      ]
     },
     "metadata": {},
     "output_type": "display_data"
    },
    {
     "name": "stdout",
     "output_type": "stream",
     "text": [
      "\n",
      "image 1/1 d:\\GitHub\\Maltese-Christian-Statue-Classifier\\MCS Dataset\\The Betrayal of Judas\\10286887_589686577805404_7502443278767963164_o.jpg: 224x224 The Betrayal of Judas 1.00, Jesus praying in Gethsemane 0.00, The Lady of Sorrows 0.00, Jesus has Risen 0.00, The Crucifixion 0.00, 5.6ms\n",
      "Speed: 11.5ms preprocess, 5.6ms inference, 0.0ms postprocess per image at shape (1, 3, 224, 224)\n"
     ]
    },
    {
     "data": {
      "text/plain": [
       "<Figure size 1000x700 with 1 Axes>"
      ]
     },
     "metadata": {},
     "output_type": "display_data"
    },
    {
     "name": "stdout",
     "output_type": "stream",
     "text": [
      "\n",
      "image 1/1 d:\\GitHub\\Maltese-Christian-Statue-Classifier\\MCS Dataset\\The Cross\\12694577_10153413437690732_2174009313738358582_o.jpg: 224x224 The Cross 0.97, The Lady of Sorrows 0.02, The Crucifixion 0.01, The Betrayal of Judas 0.00, Christmas Cribs 0.00, 6.3ms\n",
      "Speed: 4.0ms preprocess, 6.3ms inference, 0.0ms postprocess per image at shape (1, 3, 224, 224)\n"
     ]
    },
    {
     "data": {
      "text/plain": [
       "<Figure size 1000x700 with 1 Axes>"
      ]
     },
     "metadata": {},
     "output_type": "display_data"
    },
    {
     "name": "stdout",
     "output_type": "stream",
     "text": [
      "\n",
      "image 1/1 d:\\GitHub\\Maltese-Christian-Statue-Classifier\\MCS Dataset\\The Cross\\12695019_10153413466565732_2721782009916496891_o.jpg: 224x224 The Cross 1.00, Saint Philip of Agira 0.00, The Redeemer 0.00, The Veronica 0.00, The Crucifixion 0.00, 7.1ms\n",
      "Speed: 4.0ms preprocess, 7.1ms inference, 0.0ms postprocess per image at shape (1, 3, 224, 224)\n"
     ]
    },
    {
     "data": {
      "text/plain": [
       "<Figure size 1000x700 with 1 Axes>"
      ]
     },
     "metadata": {},
     "output_type": "display_data"
    },
    {
     "name": "stdout",
     "output_type": "stream",
     "text": [
      "\n",
      "image 1/1 d:\\GitHub\\Maltese-Christian-Statue-Classifier\\MCS Dataset\\The Crucifixion\\10265364_592274767546585_2947778955778878077_o.jpg: 224x224 The Crucifixion 1.00, The Flogged 0.00, The Cross 0.00, The Redeemer 0.00, The Lady of Sorrows 0.00, 6.2ms\n",
      "Speed: 12.2ms preprocess, 6.2ms inference, 0.0ms postprocess per image at shape (1, 3, 224, 224)\n"
     ]
    },
    {
     "data": {
      "text/plain": [
       "<Figure size 1000x700 with 1 Axes>"
      ]
     },
     "metadata": {},
     "output_type": "display_data"
    },
    {
     "name": "stdout",
     "output_type": "stream",
     "text": [
      "\n",
      "image 1/1 d:\\GitHub\\Maltese-Christian-Statue-Classifier\\MCS Dataset\\The Crucifixion\\10391014_754644037976323_2019655692623305913_n.jpg: 224x224 The Crucifixion 1.00, The Flogged 0.00, The Cross 0.00, The Lady of Sorrows 0.00, The Redeemer 0.00, 6.0ms\n",
      "Speed: 4.0ms preprocess, 6.0ms inference, 0.0ms postprocess per image at shape (1, 3, 224, 224)\n"
     ]
    },
    {
     "data": {
      "text/plain": [
       "<Figure size 1000x700 with 1 Axes>"
      ]
     },
     "metadata": {},
     "output_type": "display_data"
    },
    {
     "name": "stdout",
     "output_type": "stream",
     "text": [
      "\n",
      "image 1/1 d:\\GitHub\\Maltese-Christian-Statue-Classifier\\MCS Dataset\\The Ecce Homo\\10010041_589687281138667_4946173483105227430_o.jpg: 224x224 The Ecce Homo 0.92, The Crucifixion 0.04, Simon of Cyrene 0.02, Jesus has Risen 0.01, The Redeemer 0.00, 6.5ms\n",
      "Speed: 12.5ms preprocess, 6.5ms inference, 0.0ms postprocess per image at shape (1, 3, 224, 224)\n"
     ]
    },
    {
     "data": {
      "text/plain": [
       "<Figure size 1000x700 with 1 Axes>"
      ]
     },
     "metadata": {},
     "output_type": "display_data"
    },
    {
     "name": "stdout",
     "output_type": "stream",
     "text": [
      "\n",
      "image 1/1 d:\\GitHub\\Maltese-Christian-Statue-Classifier\\MCS Dataset\\The Ecce Homo\\10857162_755322837908443_8313493359561120313_o.jpg: 224x224 The Ecce Homo 1.00, The Flogged 0.00, The Crucifixion 0.00, The Redeemer 0.00, The Monument 0.00, 7.5ms\n",
      "Speed: 11.5ms preprocess, 7.5ms inference, 0.0ms postprocess per image at shape (1, 3, 224, 224)\n"
     ]
    },
    {
     "data": {
      "text/plain": [
       "<Figure size 1000x700 with 1 Axes>"
      ]
     },
     "metadata": {},
     "output_type": "display_data"
    },
    {
     "name": "stdout",
     "output_type": "stream",
     "text": [
      "\n",
      "image 1/1 d:\\GitHub\\Maltese-Christian-Statue-Classifier\\MCS Dataset\\The Flogged\\10285842_589687331138662_8899449365133560344_o.jpg: 224x224 The Flogged 1.00, The Ecce Homo 0.00, The Crucifixion 0.00, Jesus has Risen 0.00, The Veronica 0.00, 7.5ms\n",
      "Speed: 12.0ms preprocess, 7.5ms inference, 0.0ms postprocess per image at shape (1, 3, 224, 224)\n"
     ]
    },
    {
     "data": {
      "text/plain": [
       "<Figure size 1000x700 with 1 Axes>"
      ]
     },
     "metadata": {},
     "output_type": "display_data"
    },
    {
     "name": "stdout",
     "output_type": "stream",
     "text": [
      "\n",
      "image 1/1 d:\\GitHub\\Maltese-Christian-Statue-Classifier\\MCS Dataset\\The Flogged\\10286805_591298520977543_7962497004436589419_o.jpg: 224x224 The Flogged 0.94, The Ecce Homo 0.06, Simon of Cyrene 0.00, The Veronica 0.00, The Redeemer 0.00, 8.5ms\n",
      "Speed: 12.6ms preprocess, 8.5ms inference, 0.0ms postprocess per image at shape (1, 3, 224, 224)\n"
     ]
    },
    {
     "data": {
      "text/plain": [
       "<Figure size 1000x700 with 1 Axes>"
      ]
     },
     "metadata": {},
     "output_type": "display_data"
    },
    {
     "name": "stdout",
     "output_type": "stream",
     "text": [
      "\n",
      "image 1/1 d:\\GitHub\\Maltese-Christian-Statue-Classifier\\MCS Dataset\\The Lady of Sorrows\\10155844_581693228604739_6795465072514341062_n.jpg: 224x224 The Lady of Sorrows 1.00, The Betrayal of Judas 0.00, The Crucifixion 0.00, Jesus praying in Gethsemane 0.00, Jesus has Risen 0.00, 8.5ms\n",
      "Speed: 4.0ms preprocess, 8.5ms inference, 0.0ms postprocess per image at shape (1, 3, 224, 224)\n"
     ]
    },
    {
     "data": {
      "text/plain": [
       "<Figure size 1000x700 with 1 Axes>"
      ]
     },
     "metadata": {},
     "output_type": "display_data"
    },
    {
     "name": "stdout",
     "output_type": "stream",
     "text": [
      "\n",
      "image 1/1 d:\\GitHub\\Maltese-Christian-Statue-Classifier\\MCS Dataset\\The Lady of Sorrows\\10171265_581693081938087_1468983611619066647_n.jpg: 224x224 The Lady of Sorrows 1.00, The Betrayal of Judas 0.00, Jesus praying in Gethsemane 0.00, The Crucifixion 0.00, The Redeemer 0.00, 7.0ms\n",
      "Speed: 3.5ms preprocess, 7.0ms inference, 0.0ms postprocess per image at shape (1, 3, 224, 224)\n"
     ]
    },
    {
     "data": {
      "text/plain": [
       "<Figure size 1000x700 with 1 Axes>"
      ]
     },
     "metadata": {},
     "output_type": "display_data"
    },
    {
     "name": "stdout",
     "output_type": "stream",
     "text": [
      "\n",
      "image 1/1 d:\\GitHub\\Maltese-Christian-Statue-Classifier\\MCS Dataset\\The Last Supper\\1.jpg: 224x224 Simon of Cyrene 0.96, The Veronica 0.01, The Redeemer 0.01, The Ecce Homo 0.01, The Last Supper 0.00, 7.5ms\n",
      "Speed: 3.0ms preprocess, 7.5ms inference, 0.0ms postprocess per image at shape (1, 3, 224, 224)\n"
     ]
    },
    {
     "data": {
      "text/plain": [
       "<Figure size 1000x700 with 1 Axes>"
      ]
     },
     "metadata": {},
     "output_type": "display_data"
    },
    {
     "name": "stdout",
     "output_type": "stream",
     "text": [
      "\n",
      "image 1/1 d:\\GitHub\\Maltese-Christian-Statue-Classifier\\MCS Dataset\\The Last Supper\\140431316_2776904995957918_2231225331685239706_n.jpg: 224x224 The Monument 0.42, The Ecce Homo 0.32, The Last Supper 0.06, The Crucifixion 0.06, The Redeemer 0.04, 8.0ms\n",
      "Speed: 9.5ms preprocess, 8.0ms inference, 0.0ms postprocess per image at shape (1, 3, 224, 224)\n"
     ]
    },
    {
     "data": {
      "text/plain": [
       "<Figure size 1000x700 with 1 Axes>"
      ]
     },
     "metadata": {},
     "output_type": "display_data"
    },
    {
     "name": "stdout",
     "output_type": "stream",
     "text": [
      "\n",
      "image 1/1 d:\\GitHub\\Maltese-Christian-Statue-Classifier\\MCS Dataset\\The Monument\\10272549_754643957976331_7541451652729088264_o.jpg: 224x224 The Monument 1.00, The Lady of Sorrows 0.00, The Ecce Homo 0.00, The Redeemer 0.00, The Veronica 0.00, 7.5ms\n",
      "Speed: 11.5ms preprocess, 7.5ms inference, 0.0ms postprocess per image at shape (1, 3, 224, 224)\n"
     ]
    },
    {
     "data": {
      "text/plain": [
       "<Figure size 1000x700 with 1 Axes>"
      ]
     },
     "metadata": {},
     "output_type": "display_data"
    },
    {
     "name": "stdout",
     "output_type": "stream",
     "text": [
      "\n",
      "image 1/1 d:\\GitHub\\Maltese-Christian-Statue-Classifier\\MCS Dataset\\The Monument\\10285240_593793414061387_4553217664674706811_o.jpg: 224x224 The Monument 1.00, The Lady of Sorrows 0.00, The Ecce Homo 0.00, The Veronica 0.00, Jesus has Risen 0.00, 7.5ms\n",
      "Speed: 11.4ms preprocess, 7.5ms inference, 0.0ms postprocess per image at shape (1, 3, 224, 224)\n"
     ]
    },
    {
     "data": {
      "text/plain": [
       "<Figure size 1000x700 with 1 Axes>"
      ]
     },
     "metadata": {},
     "output_type": "display_data"
    },
    {
     "name": "stdout",
     "output_type": "stream",
     "text": [
      "\n",
      "image 1/1 d:\\GitHub\\Maltese-Christian-Statue-Classifier\\MCS Dataset\\The Redeemer\\10257314_591299454310783_1235427328936444256_o.jpg: 224x224 The Redeemer 1.00, Simon of Cyrene 0.00, The Veronica 0.00, The Crucifixion 0.00, The Lady of Sorrows 0.00, 7.5ms\n",
      "Speed: 12.5ms preprocess, 7.5ms inference, 0.0ms postprocess per image at shape (1, 3, 224, 224)\n"
     ]
    },
    {
     "data": {
      "text/plain": [
       "<Figure size 1000x700 with 1 Axes>"
      ]
     },
     "metadata": {},
     "output_type": "display_data"
    },
    {
     "name": "stdout",
     "output_type": "stream",
     "text": [
      "\n",
      "image 1/1 d:\\GitHub\\Maltese-Christian-Statue-Classifier\\MCS Dataset\\The Redeemer\\10959604_754643831309677_4747952694609645877_n.jpg: 224x224 The Redeemer 1.00, Simon of Cyrene 0.00, The Veronica 0.00, Jesus praying in Gethsemane 0.00, The Lady of Sorrows 0.00, 7.5ms\n",
      "Speed: 5.0ms preprocess, 7.5ms inference, 0.0ms postprocess per image at shape (1, 3, 224, 224)\n"
     ]
    },
    {
     "data": {
      "text/plain": [
       "<Figure size 1000x700 with 1 Axes>"
      ]
     },
     "metadata": {},
     "output_type": "display_data"
    },
    {
     "name": "stdout",
     "output_type": "stream",
     "text": [
      "\n",
      "image 1/1 d:\\GitHub\\Maltese-Christian-Statue-Classifier\\MCS Dataset\\The Veronica\\10258518_592725520834843_1233021636814841544_o.jpg: 224x224 The Veronica 1.00, The Lady of Sorrows 0.00, The Flogged 0.00, The Ecce Homo 0.00, The Betrayal of Judas 0.00, 15.0ms\n",
      "Speed: 12.5ms preprocess, 15.0ms inference, 0.0ms postprocess per image at shape (1, 3, 224, 224)\n"
     ]
    },
    {
     "data": {
      "text/plain": [
       "<Figure size 1000x700 with 1 Axes>"
      ]
     },
     "metadata": {},
     "output_type": "display_data"
    },
    {
     "name": "stdout",
     "output_type": "stream",
     "text": [
      "\n",
      "image 1/1 d:\\GitHub\\Maltese-Christian-Statue-Classifier\\MCS Dataset\\The Veronica\\11136205_791690694271657_5226313664779022469_o.jpg: 224x224 The Veronica 1.00, The Flogged 0.00, The Lady of Sorrows 0.00, Jesus has Risen 0.00, The Ecce Homo 0.00, 16.0ms\n",
      "Speed: 12.1ms preprocess, 16.0ms inference, 0.0ms postprocess per image at shape (1, 3, 224, 224)\n"
     ]
    },
    {
     "data": {
      "text/plain": [
       "<Figure size 1000x700 with 1 Axes>"
      ]
     },
     "metadata": {},
     "output_type": "display_data"
    },
    {
     "name": "stdout",
     "output_type": "stream",
     "text": [
      "Image: 121960532_4030654523615342_425859488410538693_n.jpg, Predicted: Saint Philip of Agira, Confidence: 67.26%\n",
      "Image: 121988132_4030650750282386_6216238816359705572_n.jpg, Predicted: The Flogged, Confidence: 78.78%\n",
      "Image: 11063760_10153526942450732_3570215296722781252_o.jpg, Predicted: Jesus has Risen, Confidence: 81.98%\n",
      "Image: 12022442_10153526942610732_127221472302263044_o.jpg, Predicted: Jesus has Risen, Confidence: 100.0%\n",
      "Image: 011.JPG, Predicted: Jesus praying in Gethsemane, Confidence: 100.0%\n",
      "Image: 10007326_576843849089677_365853481_o.jpg, Predicted: Jesus praying in Gethsemane, Confidence: 100.0%\n",
      "Image: 116623713_918362858663099_4260138187212353875_n.jpg, Predicted: Our Lady of Grace, Confidence: 100.0%\n",
      "Image: 120194429_669271723710629_565051212040778366_n.jpg, Predicted: Our Lady of Grace, Confidence: 99.97%\n",
      "Image: 104473090_2926755327378742_1890932265076098324_n.jpg, Predicted: Saint Joseph, Confidence: 99.69%\n",
      "Image: 107609219_2979287158792225_8516499388614223790_n.jpg, Predicted: The Monument, Confidence: 55.2%\n",
      "Image: 101093538_872442613277103_121050479256928256_n.jpg, Predicted: Saint Philip of Agira, Confidence: 100.0%\n",
      "Image: 101730445_875700446284653_3167047448858198016_n.jpg, Predicted: Saint Philip of Agira, Confidence: 100.0%\n",
      "Image: 10296491_591299580977437_4854014136817833368_o.jpg, Predicted: Simon of Cyrene, Confidence: 100.0%\n",
      "Image: 10866181_791690374271689_4170390227140989951_o.jpg, Predicted: Simon of Cyrene, Confidence: 99.91%\n",
      "Image: 10259027_584804921626903_2161948603323559363_o.jpg, Predicted: The Betrayal of Judas, Confidence: 99.99%\n",
      "Image: 10286887_589686577805404_7502443278767963164_o.jpg, Predicted: The Betrayal of Judas, Confidence: 99.74%\n",
      "Image: 12694577_10153413437690732_2174009313738358582_o.jpg, Predicted: The Cross, Confidence: 97.15%\n",
      "Image: 12695019_10153413466565732_2721782009916496891_o.jpg, Predicted: The Cross, Confidence: 99.98%\n",
      "Image: 10265364_592274767546585_2947778955778878077_o.jpg, Predicted: The Crucifixion, Confidence: 100.0%\n",
      "Image: 10391014_754644037976323_2019655692623305913_n.jpg, Predicted: The Crucifixion, Confidence: 100.0%\n",
      "Image: 10010041_589687281138667_4946173483105227430_o.jpg, Predicted: The Ecce Homo, Confidence: 92.01%\n",
      "Image: 10857162_755322837908443_8313493359561120313_o.jpg, Predicted: The Ecce Homo, Confidence: 100.0%\n",
      "Image: 10285842_589687331138662_8899449365133560344_o.jpg, Predicted: The Flogged, Confidence: 99.87%\n",
      "Image: 10286805_591298520977543_7962497004436589419_o.jpg, Predicted: The Flogged, Confidence: 93.86%\n",
      "Image: 10155844_581693228604739_6795465072514341062_n.jpg, Predicted: The Lady of Sorrows, Confidence: 100.0%\n",
      "Image: 10171265_581693081938087_1468983611619066647_n.jpg, Predicted: The Lady of Sorrows, Confidence: 99.58%\n",
      "Image: 1.jpg, Predicted: Simon of Cyrene, Confidence: 96.35%\n",
      "Image: 140431316_2776904995957918_2231225331685239706_n.jpg, Predicted: The Monument, Confidence: 42.33%\n",
      "Image: 10272549_754643957976331_7541451652729088264_o.jpg, Predicted: The Monument, Confidence: 100.0%\n",
      "Image: 10285240_593793414061387_4553217664674706811_o.jpg, Predicted: The Monument, Confidence: 99.88%\n",
      "Image: 10257314_591299454310783_1235427328936444256_o.jpg, Predicted: The Redeemer, Confidence: 99.98%\n",
      "Image: 10959604_754643831309677_4747952694609645877_n.jpg, Predicted: The Redeemer, Confidence: 100.0%\n",
      "Image: 10258518_592725520834843_1233021636814841544_o.jpg, Predicted: The Veronica, Confidence: 99.93%\n",
      "Image: 11136205_791690694271657_5226313664779022469_o.jpg, Predicted: The Veronica, Confidence: 99.99%\n"
     ]
    }
   ],
   "source": [
    "from ultralytics import YOLO\n",
    "import cv2\n",
    "import os\n",
    "from matplotlib import pyplot as plt\n",
    "import torch\n",
    "import numpy as np\n",
    "\n",
    "# Check device availability\n",
    "device = torch.device('cuda' if torch.cuda.is_available() else 'cpu')\n",
    "\n",
    "# Categories in English and Maltese\n",
    "categories_english = {\n",
    "    0: 'Christmas Crib', \n",
    "    1: 'Jesus has Risen', \n",
    "    2: 'Jesus praying in Gethsemane', \n",
    "    3: 'Our Lady of Grace', \n",
    "    4: 'Saint Joseph', \n",
    "    5: 'Saint Philip of Agira', \n",
    "    6: 'Simon of Cyrene', \n",
    "    7: 'The Betrayal of Judas', \n",
    "    8: 'The Cross', \n",
    "    9: 'The Crucifixion', \n",
    "    10: 'The Ecce Homo', \n",
    "    11: 'The Flogged', \n",
    "    12: 'The Lady of Sorrows', \n",
    "    13: 'The Last Supper', \n",
    "    14: 'The Monument', \n",
    "    15: 'The Redeemer', \n",
    "    16: 'The Veronica'\n",
    "}\n",
    "\n",
    "categories_maltese = {\n",
    "    0: 'Il-Presepju', \n",
    "    1: 'L-Irxoxt', \n",
    "    2: 'Ġesù fl-Ort tal-Ġetsemani', \n",
    "    3: 'Il-Madonna tal-Grazzja', \n",
    "    4: 'San Ġużepp', \n",
    "    5: 'San Filep ta’ Aġġira', \n",
    "    6: 'Xmun min Ċireni', \n",
    "    7: 'It-Tradiment ta’ Ġuda', \n",
    "    8: 'Is-Salib', \n",
    "    9: 'Il-Vara Il-Kbira', \n",
    "    10: 'L-Ecce Homo', \n",
    "    11: 'Il-Marbut', \n",
    "    12: 'Id-Duluri', \n",
    "    13: 'L-Aħħar Ċena', \n",
    "    14: 'Il-Monument', \n",
    "    15: 'Ir-Redentur', \n",
    "    16: 'Il-Veronica'\n",
    "}\n",
    "\n",
    "\n",
    "def predict(image_paths, model, size=(244, 244)):\n",
    "    \"\"\"Predict the class of images and plot results using image paths.\"\"\"\n",
    "    predictions = []\n",
    "\n",
    "    for path in image_paths:\n",
    "        # Read and resize the image\n",
    "        image = cv2.cvtColor(cv2.imread(path), cv2.COLOR_BGR2RGB)\n",
    "        resized_img = cv2.resize(image, size)\n",
    "        resized_img = resized_img / 255.0  # Normalize\n",
    "        resized_img = resized_img.transpose(2, 0, 1)  # Convert to (C, H, W)\n",
    "        resized_img = resized_img[None, ...]  # Add batch dimension\n",
    "\n",
    "        # Run prediction\n",
    "        results = model.predict(path)\n",
    "        pred_probs = results[0].probs.data.cpu().numpy()\n",
    "        pred_class = np.argmax(pred_probs)\n",
    "        pred_prob = round(np.max(pred_probs) * 100, 2)\n",
    "\n",
    "        # Plot image with prediction\n",
    "        plt.figure(figsize=(10, 7))\n",
    "        plt.imshow(image)\n",
    "        plt.title(f'Prediction: {categories_maltese[pred_class]} ({pred_prob}%)', fontsize=18, color='white', backgroundcolor='red')\n",
    "        plt.axis('off')\n",
    "        plt.show()\n",
    "\n",
    "        # Save predictions\n",
    "        predictions.append((path, categories_english[pred_class], pred_prob))\n",
    "\n",
    "    return predictions\n",
    "\n",
    "# Dataset path and model loading\n",
    "dataset_path = \"MCS Dataset/\"\n",
    "model = YOLO(\"models/MCS-Classifyv2.pt\").to(device)\n",
    "\n",
    "# Load subset of image paths\n",
    "subset_amount = 2\n",
    "image_paths = []\n",
    "\n",
    "categories = list(categories_english.values())\n",
    "for category in categories:\n",
    "    category_path = os.path.join(dataset_path, category)\n",
    "    image_files = os.listdir(category_path)[:subset_amount]\n",
    "    image_paths.extend([os.path.join(category_path, image_name) for image_name in image_files])\n",
    "\n",
    "# Predict classes using image paths\n",
    "predictions = predict(image_paths, model)\n",
    "\n",
    "# Print predictions\n",
    "for path, predicted_class, confidence in predictions:\n",
    "    print(f\"Image: {os.path.basename(path)}, Predicted: {predicted_class}, Confidence: {confidence}%\")\n"
   ]
  }
 ],
 "metadata": {
  "kernelspec": {
   "display_name": "yolov10",
   "language": "python",
   "name": "python3"
  },
  "language_info": {
   "codemirror_mode": {
    "name": "ipython",
    "version": 3
   },
   "file_extension": ".py",
   "mimetype": "text/x-python",
   "name": "python",
   "nbconvert_exporter": "python",
   "pygments_lexer": "ipython3",
   "version": "3.9.19"
  }
 },
 "nbformat": 4,
 "nbformat_minor": 2
}
