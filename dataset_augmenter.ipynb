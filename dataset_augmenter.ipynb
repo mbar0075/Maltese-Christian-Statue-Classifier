{
 "cells": [
  {
   "cell_type": "markdown",
   "metadata": {},
   "source": [
    "<center><h1>Maltese Christian Statue (MCS) Dataset Augmentation</h1>\n",
    "<h2>Matthias Bartolo</h2>\n",
    "\n",
    "</center>"
   ]
  },
  {
   "cell_type": "code",
   "execution_count": 1,
   "metadata": {},
   "outputs": [
    {
     "name": "stdout",
     "output_type": "stream",
     "text": [
      "Image augmentation completed. Augmented dataset is ready!\n"
     ]
    }
   ],
   "source": [
    "from time import time\n",
    "import numpy as np\n",
    "import os\n",
    "import cv2\n",
    "\n",
    "# Define the original and augmented dataset paths\n",
    "original_dataset_path = 'MCS Dataset/'\n",
    "augmented_dataset_path = 'Augmented MCS Dataset1k/'\n",
    "\n",
    "# Ensure the augmented dataset path exists\n",
    "os.makedirs(augmented_dataset_path, exist_ok=True)\n",
    "\n",
    "# Retrieve the categories\n",
    "categories = os.listdir(original_dataset_path)\n",
    "\n",
    "# Define the number of images required per category\n",
    "num_images = 1_250\n",
    "\n",
    "# Function to apply photometric augmentations\n",
    "def photometric_augment(image):\n",
    "    augmented_images = []\n",
    "    \n",
    "    # Change saturation\n",
    "    hsv = cv2.cvtColor(image, cv2.COLOR_BGR2HSV)\n",
    "    for saturation_factor in [0.5, 1.5]:  # Desaturate and oversaturate\n",
    "        hsv_adjusted = hsv.copy()\n",
    "        hsv_adjusted[:, :, 1] = np.clip(hsv[:, :, 1] * saturation_factor, 0, 255)\n",
    "        augmented_images.append(cv2.cvtColor(hsv_adjusted, cv2.COLOR_HSV2BGR))\n",
    "    \n",
    "    # Change brightness\n",
    "    for brightness_factor in [-50, 50]:  # Darker and brighter\n",
    "        bright = cv2.convertScaleAbs(image, alpha=1, beta=brightness_factor)\n",
    "        augmented_images.append(bright)\n",
    "    \n",
    "    # Change contrast\n",
    "    for contrast_factor in [0.5, 1.5]:  # Lower contrast and higher contrast\n",
    "        contrast = cv2.convertScaleAbs(image, alpha=contrast_factor, beta=0)\n",
    "        augmented_images.append(contrast)\n",
    "    \n",
    "    return augmented_images\n",
    "\n",
    "# Process each category\n",
    "for category in categories:\n",
    "    # Create category folder in the augmented dataset\n",
    "    category_path = os.path.join(original_dataset_path, category)\n",
    "    augmented_category_path = os.path.join(augmented_dataset_path, category)\n",
    "    os.makedirs(augmented_category_path, exist_ok=True)\n",
    "    \n",
    "    # List images in the category\n",
    "    images = os.listdir(category_path)\n",
    "    num_existing_images = len(images)\n",
    "    \n",
    "    # Copy original images to the augmented dataset\n",
    "    for image_name in images:\n",
    "        src_path = os.path.join(category_path, image_name)\n",
    "        dst_path = os.path.join(augmented_category_path, image_name)\n",
    "        cv2.imwrite(dst_path, cv2.imread(src_path))\n",
    "    \n",
    "    # Check if more images are needed\n",
    "    if num_existing_images >= num_images:\n",
    "        continue\n",
    "    \n",
    "    # Augment images to reach the required count\n",
    "    images_to_generate = num_images - num_existing_images\n",
    "    index = 0\n",
    "    while images_to_generate > 0:\n",
    "        # Cycle through existing images and augment them\n",
    "        image_name = images[index % num_existing_images]\n",
    "        image_path = os.path.join(category_path, image_name)\n",
    "        image = cv2.imread(image_path)\n",
    "        \n",
    "        # Apply photometric augmentations\n",
    "        augmented_images = photometric_augment(image)\n",
    "        for aug_image in augmented_images:\n",
    "            if images_to_generate <= 0:\n",
    "                break\n",
    "            aug_image_name = f\"{image_name.split('.')[0]}_aug_{int(time() * 1000)}.jpg\"\n",
    "            cv2.imwrite(os.path.join(augmented_category_path, aug_image_name), aug_image)\n",
    "            images_to_generate -= 1\n",
    "        \n",
    "        index += 1\n",
    "\n",
    "print(\"Image augmentation completed. Augmented dataset is ready!\")\n"
   ]
  }
 ],
 "metadata": {
  "kernelspec": {
   "display_name": "yolov10",
   "language": "python",
   "name": "python3"
  },
  "language_info": {
   "codemirror_mode": {
    "name": "ipython",
    "version": 3
   },
   "file_extension": ".py",
   "mimetype": "text/x-python",
   "name": "python",
   "nbconvert_exporter": "python",
   "pygments_lexer": "ipython3",
   "version": "3.9.19"
  }
 },
 "nbformat": 4,
 "nbformat_minor": 2
}
